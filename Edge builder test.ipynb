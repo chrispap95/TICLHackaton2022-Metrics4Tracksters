{
 "cells": [
  {
   "cell_type": "code",
   "execution_count": 1,
   "metadata": {},
   "outputs": [],
   "source": [
    "import numpy as np\n",
    "import awkward as ak\n",
    "import uproot\n",
    "import src.functions as fn"
   ]
  },
  {
   "cell_type": "code",
   "execution_count": 2,
   "metadata": {},
   "outputs": [],
   "source": [
    "filename = \"ntuples_13723003_0.root\"\n",
    "file = uproot.open(filename)"
   ]
  },
  {
   "cell_type": "code",
   "execution_count": 3,
   "metadata": {},
   "outputs": [],
   "source": [
    "tracksters = file[\"ticlNtuplizer/tracksters\"]"
   ]
  },
  {
   "cell_type": "code",
   "execution_count": 4,
   "metadata": {},
   "outputs": [],
   "source": [
    "vertices_indexes = tracksters['vertices_indexes'].array()\n",
    "vertices_x = tracksters['vertices_x'].array()\n",
    "vertices_y = tracksters['vertices_y'].array()\n",
    "vertices_z = tracksters['vertices_z'].array()\n",
    "vertices_E = tracksters['vertices_energy'].array()"
   ]
  },
  {
   "cell_type": "code",
   "execution_count": 5,
   "metadata": {},
   "outputs": [],
   "source": [
    "vertices_indexes_0 = vertices_indexes[0]\n",
    "vertices_x_0 = vertices_x[0]\n",
    "vertices_y_0 = vertices_y[0]\n",
    "vertices_z_0 = vertices_z[0]\n",
    "vertices_E_0 = vertices_E[0]"
   ]
  },
  {
   "cell_type": "code",
   "execution_count": 6,
   "metadata": {},
   "outputs": [
    {
     "data": {
      "text/plain": [
       "<ArrayBuilder [[[(1, 9), (9, 26, ... ), (941, 798)]]] type='100 * var * var * (i...'>"
      ]
     },
     "execution_count": 6,
     "metadata": {},
     "output_type": "execute_result"
    }
   ],
   "source": [
    "fn.edgeBuilderCyclEv(vertices_indexes)"
   ]
  },
  {
   "cell_type": "code",
   "execution_count": 7,
   "metadata": {},
   "outputs": [
    {
     "data": {
      "text/plain": [
       "<ArrayBuilder [[(1, 9), (9, 26, ... 919), (919, 482)]] type='7 * var * (int64, i...'>"
      ]
     },
     "execution_count": 7,
     "metadata": {},
     "output_type": "execute_result"
    }
   ],
   "source": [
    "fn.edgeBuilderCyclTr(vertices_indexes_0)"
   ]
  },
  {
   "cell_type": "code",
   "execution_count": 8,
   "metadata": {},
   "outputs": [
    {
     "data": {
      "text/plain": [
       "<ArrayBuilder [[[(1, 9), (9, 26, ... ), (941, 873)]]] type='100 * var * var * (i...'>"
      ]
     },
     "execution_count": 8,
     "metadata": {},
     "output_type": "execute_result"
    }
   ],
   "source": [
    "fn.edgeBuilderNNEv(vertices_indexes, vertices_x, vertices_y, vertices_z, vertices_E)"
   ]
  },
  {
   "cell_type": "code",
   "execution_count": 10,
   "metadata": {},
   "outputs": [],
   "source": [
    "edges = fn.edgeBuilderNNTr(vertices_indexes_0, vertices_x_0, vertices_y_0, vertices_z_0, vertices_E_0)"
   ]
  },
  {
   "cell_type": "code",
   "execution_count": 11,
   "metadata": {},
   "outputs": [
    {
     "data": {
      "text/plain": [
       "<ArrayBuilder [[(1, 9), (9, 26, ... 881), (919, 882)]] type='7 * var * (int64, i...'>"
      ]
     },
     "execution_count": 11,
     "metadata": {},
     "output_type": "execute_result"
    }
   ],
   "source": [
    "edges"
   ]
  },
  {
   "cell_type": "code",
   "execution_count": 16,
   "metadata": {},
   "outputs": [],
   "source": [
    "vertices_indexes_00 = vertices_indexes[0,0]\n",
    "vertices_x_00 = vertices_x[0,0]\n",
    "vertices_y_00 = vertices_y[0,0]\n",
    "vertices_z_00 = vertices_z[0,0]\n",
    "vertices_E_00 = vertices_E[0,0]\n",
    "edges_00 = edges[0]"
   ]
  },
  {
   "cell_type": "code",
   "execution_count": null,
   "metadata": {},
   "outputs": [],
   "source": []
  }
 ],
 "metadata": {
  "kernelspec": {
   "display_name": "ticlenv",
   "language": "python",
   "name": "ticlenv"
  },
  "language_info": {
   "codemirror_mode": {
    "name": "ipython",
    "version": 3
   },
   "file_extension": ".py",
   "mimetype": "text/x-python",
   "name": "python",
   "nbconvert_exporter": "python",
   "pygments_lexer": "ipython3",
   "version": "3.6.5"
  }
 },
 "nbformat": 4,
 "nbformat_minor": 2
}
