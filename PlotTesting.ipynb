{
 "cells": [
  {
   "cell_type": "code",
   "execution_count": 2,
   "metadata": {},
   "outputs": [],
   "source": [
    "%matplotlib notebook\n",
    "\n",
    "import numpy as np\n",
    "import awkward as ak\n",
    "import uproot\n",
    "import src.functions as fn\n",
    "import networkx as nx\n",
    "import matplotlib.pyplot as plt\n",
    "from mpl_toolkits import mplot3d\n",
    "from mpl_toolkits.mplot3d import Axes3D\n",
    "from pylab import cm"
   ]
  },
  {
   "cell_type": "code",
   "execution_count": null,
   "metadata": {},
   "outputs": [],
   "source": [
    "filename = \"/afs/cern.ch/user/d/dmagdali/CernCentralityProject/tracksters_ds.root\"\n",
    "file = uproot.open(filename)"
   ]
  },
  {
   "cell_type": "code",
   "execution_count": null,
   "metadata": {},
   "outputs": [],
   "source": [
    "tracksters = file[\"tracksters/complete\"]"
   ]
  },
  {
   "cell_type": "code",
   "execution_count": null,
   "metadata": {},
   "outputs": [],
   "source": [
    "vertices_indexes = tracksters['vertices_indexes'].array()\n",
    "vertices_x = tracksters['vertices_x'].array()\n",
    "vertices_y = tracksters['vertices_y'].array()\n",
    "vertices_z = tracksters['vertices_z'].array()\n",
    "vertices_E = tracksters['vertices_energy'].array()"
   ]
  },
  {
   "cell_type": "code",
   "execution_count": null,
   "metadata": {},
   "outputs": [],
   "source": [
    "%matplotlib notebook\n",
    "import matplotlib as mpl\n",
    "import matplotlib.pyplot as plt\n",
    "\n",
    "\n",
    "trackstersInCom = file[\"tracksters/incomplete\"]\n",
    "verticesInCom_indexes = trackstersInCom['vertices_indexes'].array()\n",
    "verticesInCom_x = trackstersInCom['vertices_x'].array()\n",
    "verticesInCom_y = trackstersInCom['vertices_y'].array()\n",
    "verticesInCom_z = trackstersInCom['vertices_z'].array()\n",
    "verticesInCom_E = trackstersInCom['vertices_energy'].array()\n",
    "edgesInCom = fn.edgeBuilderNNTr(verticesInCom_indexes, verticesInCom_x, verticesInCom_y, verticesInCom_z, verticesInCom_E)\n",
    "    \n",
    "trackstersCom = file[\"tracksters/complete\"]\n",
    "verticesCom_indexes = trackstersCom['vertices_indexes'].array()\n",
    "verticesCom_x = trackstersCom['vertices_x'].array()\n",
    "verticesCom_y = trackstersCom['vertices_y'].array()\n",
    "verticesCom_z = trackstersCom['vertices_z'].array()\n",
    "verticesCom_E = trackstersCom['vertices_energy'].array()\n",
    "edgesCom = fn.edgeBuilderNNTr(verticesCom_indexes, verticesCom_x, verticesCom_y, verticesCom_z, verticesCom_E)\n",
    "\n",
    "def plotEnergyCentrality(vertices_indexes,vertices_x,vertices_y,vertices_z,vertices_E,edges,tracksterN):\n",
    "    \n",
    "    fig = plt.figure(figsize=(10,8))\n",
    "    ax = fig.add_subplot(111,projection='3d')\n",
    "    fn.plotTrackster(fig,ax,vertices_x[tracksterN], vertices_y[tracksterN], vertices_z[tracksterN],\n",
    "                     vertices_E[tracksterN],vertices_indexes[tracksterN],edges[tracksterN],'Vertex Energy (GeV)')\n",
    "\n",
    "    centralities=fn.centralityPageRank(fn.adjM(vertices_indexes[tracksterN],edges[tracksterN]),0.85)\n",
    "    \n",
    "    fig = plt.figure(figsize=(10,8))\n",
    "    ax = fig.add_subplot(111,projection='3d')\n",
    "    fn.plotTrackster(fig,ax,vertices_x[tracksterN], vertices_y[tracksterN], vertices_z[tracksterN],\n",
    "                     centralities,vertices_indexes[tracksterN],edges[tracksterN],'PageRank Centrality')\n",
    "\n",
    "    centralities=fn.nXCentralityEigen(vertices_indexes[tracksterN],edges[tracksterN])\n",
    "\n",
    "    fig = plt.figure(figsize=(10,8))\n",
    "    ax = fig.add_subplot(111,projection='3d')\n",
    "    fn.plotTrackster(fig,ax,vertices_x[tracksterN], vertices_y[tracksterN], vertices_z[tracksterN],\n",
    "                     centralities,vertices_indexes[tracksterN],edges[tracksterN],'Eigen Centrality')"
   ]
  },
  {
   "cell_type": "code",
   "execution_count": null,
   "metadata": {
    "scrolled": true
   },
   "outputs": [],
   "source": [
    "plotEnergyCentrality(verticesCom_indexes, verticesCom_x, verticesCom_y, verticesCom_z, verticesCom_E,\n",
    "                     edgesCom,2)"
   ]
  },
  {
   "cell_type": "code",
   "execution_count": null,
   "metadata": {
    "scrolled": false
   },
   "outputs": [],
   "source": [
    "plotEnergyCentrality(verticesCom_indexes, verticesCom_x, verticesCom_y, verticesCom_z, verticesCom_E,\n",
    "                     edgesCom,3)"
   ]
  },
  {
   "cell_type": "code",
   "execution_count": null,
   "metadata": {
    "scrolled": true
   },
   "outputs": [],
   "source": [
    "plotEnergyCentrality(verticesCom_indexes, verticesCom_x, verticesCom_y, verticesCom_z, verticesCom_E,\n",
    "                     edgesCom,30)"
   ]
  },
  {
   "cell_type": "code",
   "execution_count": null,
   "metadata": {
    "scrolled": true
   },
   "outputs": [],
   "source": [
    "plotEnergyCentrality(verticesCom_indexes, verticesCom_x, verticesCom_y, verticesCom_z, verticesCom_E,edgesCom,10)"
   ]
  },
  {
   "cell_type": "code",
   "execution_count": null,
   "metadata": {
    "scrolled": true
   },
   "outputs": [],
   "source": [
    "plotEnergyCentrality(verticesInCom_indexes, verticesInCom_x, verticesInCom_y, verticesInCom_z, verticesInCom_E,\n",
    "                     edgesInCom,20)"
   ]
  },
  {
   "cell_type": "code",
   "execution_count": null,
   "metadata": {
    "scrolled": true
   },
   "outputs": [],
   "source": [
    "plotEnergyCentrality(verticesInCom_indexes, verticesInCom_x, verticesInCom_y, verticesInCom_z, verticesInCom_E,\n",
    "                     edgesInCom,3)"
   ]
  },
  {
   "cell_type": "code",
   "execution_count": null,
   "metadata": {
    "scrolled": true
   },
   "outputs": [],
   "source": [
    "plotEnergyCentrality(verticesInCom_indexes, verticesInCom_x, verticesInCom_y, verticesInCom_z, verticesInCom_E,\n",
    "                     edgesInCom,11)"
   ]
  },
  {
   "cell_type": "code",
   "execution_count": null,
   "metadata": {},
   "outputs": [],
   "source": [
    "print(tracksters.keys())"
   ]
  },
  {
   "cell_type": "code",
   "execution_count": 6,
   "metadata": {},
   "outputs": [
    {
     "ename": "NameError",
     "evalue": "name 'verticesCom_indexes' is not defined",
     "output_type": "error",
     "traceback": [
      "\u001b[0;31m---------------------------------------------------------------------------\u001b[0m",
      "\u001b[0;31mNameError\u001b[0m                                 Traceback (most recent call last)",
      "\u001b[0;32m<ipython-input-6-6fc27e418327>\u001b[0m in \u001b[0;36m<module>\u001b[0;34m\u001b[0m\n\u001b[1;32m     12\u001b[0m     \u001b[0;32mreturn\u001b[0m \u001b[0mlongestShortestPath\u001b[0m\u001b[0;34m\u001b[0m\u001b[0m\n\u001b[1;32m     13\u001b[0m \u001b[0;34m\u001b[0m\u001b[0m\n\u001b[0;32m---> 14\u001b[0;31m \u001b[0mcentralities\u001b[0m\u001b[0;34m=\u001b[0m\u001b[0mfn\u001b[0m\u001b[0;34m.\u001b[0m\u001b[0mnXCentralityEigen\u001b[0m\u001b[0;34m(\u001b[0m\u001b[0mverticesCom_indexes\u001b[0m\u001b[0;34m[\u001b[0m\u001b[0mtracksterN\u001b[0m\u001b[0;34m]\u001b[0m\u001b[0;34m,\u001b[0m\u001b[0medgesCom\u001b[0m\u001b[0;34m[\u001b[0m\u001b[0mtracksterN\u001b[0m\u001b[0;34m]\u001b[0m\u001b[0;34m)\u001b[0m\u001b[0;34m\u001b[0m\u001b[0m\n\u001b[0m\u001b[1;32m     15\u001b[0m \u001b[0;34m\u001b[0m\u001b[0m\n\u001b[1;32m     16\u001b[0m \u001b[0mlongestPath\u001b[0m\u001b[0;34m=\u001b[0m\u001b[0mlongestPathSource\u001b[0m\u001b[0;34m(\u001b[0m\u001b[0mverticesCom_indexes\u001b[0m\u001b[0;34m[\u001b[0m\u001b[0mtracksterN\u001b[0m\u001b[0;34m]\u001b[0m\u001b[0;34m,\u001b[0m\u001b[0medgesCom\u001b[0m\u001b[0;34m[\u001b[0m\u001b[0mtracksterN\u001b[0m\u001b[0;34m]\u001b[0m\u001b[0;34m,\u001b[0m\u001b[0mcentralities\u001b[0m\u001b[0;34m)\u001b[0m\u001b[0;34m\u001b[0m\u001b[0m\n",
      "\u001b[0;31mNameError\u001b[0m: name 'verticesCom_indexes' is not defined"
     ]
    }
   ],
   "source": [
    "tracksterN=2\n",
    "def longestPathSource(nodes,edges,centralities):\n",
    "    G=nx.Graph()\n",
    "    G.add_edges_from(ak.to_numpy(edges))\n",
    "    G.add_nodes_from(ak.to_numpy(nodes))\n",
    "    \n",
    "    i_centralityMax=np.argmax(centralities)\n",
    "    source=nodes[i_centralityMax]\n",
    "    \n",
    "    pathList=nx.shortest_path_length(G,source=source)\n",
    "    longestShortestPath=max(pathList.values())\n",
    "    return longestShortestPath\n",
    "\n",
    "centralities=fn.nXCentralityEigen(verticesCom_indexes[tracksterN],edgesCom[tracksterN])\n",
    "\n",
    "longestPath=longestPathSource(verticesCom_indexes[tracksterN],edgesCom[tracksterN],centralities)\n",
    "\n",
    "print(longestPath)"
   ]
  },
  {
   "cell_type": "code",
   "execution_count": null,
   "metadata": {},
   "outputs": [],
   "source": [
    "longestComPaths=[]\n",
    "for i in range(len(verticesCom_indexes)):\n",
    "    centralities=fn.centralityEigen(fn.adjM(verticesCom_indexes[i],edgesCom[i]))\n",
    "    longestPath=longestPathSource(verticesCom_indexes[i],edgesCom[i],centralities)\n",
    "    longestComPaths.append(longestPath)\n",
    "\n",
    "longestInComPaths=[]\n",
    "for i in range(len(verticesInCom_indexes)):\n",
    "    centralities=fn.centralityEigen(fn.adjM(verticesInCom_indexes[i],edgesInCom[i]))\n",
    "    longestPath=longestPathSource(verticesInCom_indexes[i],edgesInCom[i],centralities)\n",
    "    longestInComPaths.append(longestPath)\n"
   ]
  },
  {
   "cell_type": "code",
   "execution_count": null,
   "metadata": {},
   "outputs": [],
   "source": [
    "%matplotlib inline\n",
    "plt.figure(figsize=(8,6))\n",
    "n, bins, patches = plt.hist(longestComPaths, bins='auto', color='b', alpha=0.7,label='Complete')\n",
    "plt.hist(longestInComPaths, bins='auto', color='r', alpha=0.7,label='Incomplete')\n",
    "plt.legend()\n",
    "plt.ylabel(\"N\")\n",
    "plt.xlabel(\"Longest path in the network\",)\n",
    "plt.show()"
   ]
  },
  {
   "cell_type": "code",
   "execution_count": null,
   "metadata": {},
   "outputs": [],
   "source": [
    "filename2 = \"/afs/cern.ch/user/d/dmagdali/CernCentralityProject/tracksters_ds_10e.root\"\n",
    "file2 = uproot.open(filename2)\n",
    "tracksters10e=file2['tracksters']"
   ]
  },
  {
   "cell_type": "code",
   "execution_count": null,
   "metadata": {},
   "outputs": [],
   "source": [
    "print(tracksters10e.keys())\n",
    "tracksters10eLabels=tracksters10e['trackster_label'].array()"
   ]
  },
  {
   "cell_type": "code",
   "execution_count": null,
   "metadata": {},
   "outputs": [],
   "source": [
    "longestComPaths=[]\n",
    "longestInComPaths=[]\n",
    "vertices10e_indexes=tracksters10e['vertices_indexes'].array()\n",
    "vertices10e_x = tracksters10e['vertices_x'].array()\n",
    "vertices10e_y = tracksters10e['vertices_y'].array()\n",
    "vertices10e_z = tracksters10e['vertices_z'].array()\n",
    "vertices10e_E = tracksters10e['vertices_energy'].array()\n",
    "edges10e = fn.edgeBuilderNNTr(vertices10e_indexes, vertices10e_x, vertices10e_y, vertices10e_z, vertices10e_E)"
   ]
  },
  {
   "cell_type": "code",
   "execution_count": null,
   "metadata": {},
   "outputs": [],
   "source": [
    "for i in range(len(vertices10e_indexes)):\n",
    "    centralities=fn.centralityEigen(fn.adjM(vertices10e_indexes[i],edges10e[i]))\n",
    "    longestPath=longestPathSource(vertices10e_indexes[i],edges10e[i],centralities)\n",
    "    if(tracksters10eLabels[i]==1):\n",
    "        longestComPaths.append(longestPath)\n",
    "    else:\n",
    "        longestInComPaths.append(longestPath)\n",
    "\n"
   ]
  },
  {
   "cell_type": "code",
   "execution_count": null,
   "metadata": {},
   "outputs": [],
   "source": [
    "%matplotlib inline\n",
    "plt.figure(figsize=(8,6))\n",
    "n, bins, patches = plt.hist(longestComPaths, bins=20, color='b', alpha=0.7,label='Complete')\n",
    "plt.hist(longestInComPaths, bins=10, color='r', alpha=0.7,label='Incomplete')\n",
    "plt.legend()\n",
    "plt.ylabel(\"N\")\n",
    "plt.xlabel(\"Longest path in the network\")\n",
    "plt.title(\"10e dataset Eigen centrality\")\n",
    "plt.show()"
   ]
  },
  {
   "cell_type": "code",
   "execution_count": 3,
   "metadata": {},
   "outputs": [],
   "source": [
    "filename200e = \"/afs/cern.ch/user/d/dmagdali/CernCentralityProject/tracksters_ds_200e.root\"\n",
    "file200e = uproot.open(filename200e)\n",
    "tracksters200e=file200e['tracksters']"
   ]
  },
  {
   "cell_type": "code",
   "execution_count": 4,
   "metadata": {},
   "outputs": [],
   "source": [
    "tracksters200eLabels=tracksters200e['trackster_label'].array()\n",
    "longestComPaths=[]\n",
    "longestInComPaths=[]\n",
    "vertices200e_indexes=tracksters200e['vertices_indexes'].array()\n",
    "vertices200e_x = tracksters200e['vertices_x'].array()\n",
    "vertices200e_y = tracksters200e['vertices_y'].array()\n",
    "vertices200e_z = tracksters200e['vertices_z'].array()\n",
    "vertices200e_E = tracksters200e['vertices_energy'].array()\n",
    "edges200e = fn.edgeBuilderNNTr(vertices200e_indexes, vertices200e_x, vertices200e_y, vertices200e_z, vertices200e_E)"
   ]
  },
  {
   "cell_type": "code",
   "execution_count": 7,
   "metadata": {},
   "outputs": [],
   "source": [
    "for i in range(len(vertices200e_indexes)):\n",
    "    centralities=fn.centralityEigen(fn.adjM(vertices200e_indexes[i],edges200e[i]))\n",
    "    longestPath=longestPathSource(vertices200e_indexes[i],edges200e[i],centralities)\n",
    "    if(tracksters200eLabels[i]==1):\n",
    "        longestComPaths.append(longestPath)\n",
    "    else:\n",
    "        longestInComPaths.append(longestPath)"
   ]
  },
  {
   "cell_type": "code",
   "execution_count": 8,
   "metadata": {},
   "outputs": [
    {
     "data": {
      "image/png": "[encoded data removed]",
      "text/plain": [
       "<Figure size 576x432 with 1 Axes>"
      ]
     },
     "metadata": {
      "needs_background": "light"
     },
     "output_type": "display_data"
    }
   ],
   "source": [
    "%matplotlib inline\n",
    "plt.figure(figsize=(8,6))\n",
    "n, bins, patches = plt.hist(longestComPaths, bins=20, color='b', alpha=0.7,label='Complete')\n",
    "plt.hist(longestInComPaths, bins=10, color='r', alpha=0.7,label='Incomplete')\n",
    "plt.legend()\n",
    "plt.ylabel(\"N\")\n",
    "plt.xlabel(\"Longest path in the network\")\n",
    "plt.title(\"200e dataset Eigen centrality\")\n",
    "plt.show()"
   ]
  },
  {
   "cell_type": "code",
   "execution_count": null,
   "metadata": {},
   "outputs": [],
   "source": [
    "filename2=\"/eos/user/b/bmaier/ticl_ml_hackathon/samples/landingzone/two_closeby_photons_pu0/ntuples_13801550_238.root\"\n",
    "file2closeby = uproot.open(filename2)"
   ]
  },
  {
   "cell_type": "code",
   "execution_count": null,
   "metadata": {},
   "outputs": [],
   "source": [
    "trackstersClose=file2closeby['ticlNtuplizer/tracksters']"
   ]
  },
  {
   "cell_type": "code",
   "execution_count": null,
   "metadata": {},
   "outputs": [],
   "source": [
    "trackstersClose.keys()"
   ]
  },
  {
   "cell_type": "code",
   "execution_count": null,
   "metadata": {},
   "outputs": [],
   "source": [
    "closeVertices_E=trackstersClose['raw_energy'].array()\n",
    "closeTrackster_Eta=trackstersClose['trackster_barycenter_eta'].array()\n",
    "closeTrackster_Phi=trackstersClose['trackster_barycenter_phi'].array()"
   ]
  },
  {
   "cell_type": "code",
   "execution_count": null,
   "metadata": {},
   "outputs": [],
   "source": [
    "print(ak.min(closeVertices_E))"
   ]
  },
  {
   "cell_type": "code",
   "execution_count": null,
   "metadata": {},
   "outputs": [],
   "source": [
    "closeTrackster_R=np.sqrt(closeTrackster_Eta**2+closeTrackster_Phi**2)\n",
    "\n",
    "closeTrackster_dR=[]\n",
    "for i in closeTrackster_R:\n",
    "    if (len(closeTrackster_R[i])==2):\n",
    "        dR=np.abs(i[0]-i[1])\n",
    "        closeTrackster_dR.append(dR)\n",
    "closeTrackster_np_dR=np.asarray(closeTrackster_dR)\n",
    "print(np.sort(closeTrackster_np_dR))"
   ]
  },
  {
   "cell_type": "code",
   "execution_count": null,
   "metadata": {},
   "outputs": [],
   "source": [
    "length2Bool=np.array(ak.sum(closeTrackster_R != None,axis=1)) ==2"
   ]
  },
  {
   "cell_type": "code",
   "execution_count": null,
   "metadata": {},
   "outputs": [],
   "source": [
    "closeTrackster_dR=np.abs(closeTrackster_R[length2Bool][:,0]-closeTrackster_R[length2Bool][:,1])\n",
    "dRBoolAverage=closeTrackster_dR> np.mean(closeTrackster_dR)"
   ]
  },
  {
   "cell_type": "code",
   "execution_count": null,
   "metadata": {},
   "outputs": [],
   "source": [
    "underTenEBool=closeVertices_E[length2Bool][dRBoolAverage]<10"
   ]
  },
  {
   "cell_type": "code",
   "execution_count": null,
   "metadata": {},
   "outputs": [],
   "source": [
    "underTenEBool=[np.where(underTenEBool==True)[0][0],np.where(underTenEBool==True)[1][0]]"
   ]
  },
  {
   "cell_type": "code",
   "execution_count": null,
   "metadata": {},
   "outputs": [],
   "source": [
    "verticesClose_indexes = trackstersClose['vertices_indexes'].array()[length2Bool][dRBoolAverage][underTenEBool]\n",
    "verticesClose_x = trackstersClose['vertices_x'].array()[length2Bool][dRBoolAverage][underTenEBool]\n",
    "verticesClose_y = trackstersClose['vertices_y'].array()[length2Bool][dRBoolAverage][underTenEBool]\n",
    "verticesClose_z = trackstersClose['vertices_z'].array()[length2Bool][dRBoolAverage][underTenEBool]\n",
    "verticesClose_E = trackstersClose['vertices_energy'].array()[length2Bool][dRBoolAverage][underTenEBool]\n",
    "edgesClose = fn.edgeBuilderNNTr(verticesCom_indexes, verticesCom_x, verticesCom_y, verticesCom_z, verticesCom_E)"
   ]
  },
  {
   "cell_type": "code",
   "execution_count": null,
   "metadata": {
    "scrolled": false
   },
   "outputs": [],
   "source": [
    "\n",
    "def plotEnergyCentralityOne(vertices_indexes,vertices_x,vertices_y,vertices_z,vertices_E,edges):\n",
    "    \n",
    "    fig = plt.figure(figsize=(10,8))\n",
    "    ax = fig.add_subplot(111,projection='3d')\n",
    "    fn.plotTrackster(fig,ax,vertices_x, vertices_y, vertices_z,\n",
    "                     vertices_E,vertices_indexes,edges,'Vertex Energy (GeV)')\n",
    "\n",
    "    centralities=fn.centralityPageRank(fn.adjM(vertices_indexes,edges),0.85)\n",
    "    \n",
    "    fig = plt.figure(figsize=(10,8))\n",
    "    ax = fig.add_subplot(111,projection='3d')\n",
    "    fn.plotTrackster(fig,ax,vertices_x, vertices_y, vertices_z,\n",
    "                     centralities,vertices_indexes,edges,'PageRank Centrality')\n",
    "\n",
    "    centralities=fn.nXCentralityEigen(vertices_indexes,edges)\n",
    "\n",
    "    fig = plt.figure(figsize=(10,8))\n",
    "    ax = fig.add_subplot(111,projection='3d')\n",
    "    fn.plotTrackster(fig,ax,vertices_x, vertices_y, vertices_z,\n",
    "                     centralities,vertices_indexes,edges,'Eigen Centrality')\n",
    "print(edgesClose[0])\n",
    "plotEnergyCentralityOne(verticesClose_indexes[0][0], verticesClose_x[0][0], verticesClose_y[0][0],\n",
    "                        verticesClose_z[0][0],verticesClose_E[0][0], edgesClose[0])"
   ]
  },
  {
   "cell_type": "code",
   "execution_count": null,
   "metadata": {},
   "outputs": [],
   "source": []
  }
 ],
 "metadata": {
  "kernelspec": {
   "display_name": "ticlenv",
   "language": "python",
   "name": "ticlenv"
  },
  "language_info": {
   "codemirror_mode": {
    "name": "ipython",
    "version": 3
   },
   "file_extension": ".py",
   "mimetype": "text/x-python",
   "name": "python",
   "nbconvert_exporter": "python",
   "pygments_lexer": "ipython3",
   "version": "3.6.5"
  }
 },
 "nbformat": 4,
 "nbformat_minor": 2
}
