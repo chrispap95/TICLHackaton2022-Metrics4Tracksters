{
 "cells": [
  {
   "cell_type": "code",
   "execution_count": 1,
   "metadata": {},
   "outputs": [],
   "source": [
    "import numpy as np\n",
    "import awkward as ak\n",
    "import uproot"
   ]
  },
  {
   "cell_type": "code",
   "execution_count": 3,
   "metadata": {},
   "outputs": [],
   "source": [
    "filename = \"ntuples_13723003_0.root\"\n",
    "file = uproot.open(filename)"
   ]
  },
  {
   "cell_type": "code",
   "execution_count": 4,
   "metadata": {},
   "outputs": [
    {
     "data": {
      "text/plain": [
       "['ticlNtuplizer;1',\n",
       " 'ticlNtuplizer/tracksters;1',\n",
       " 'ticlNtuplizer/clusters;1',\n",
       " 'ticlNtuplizer/graph;1',\n",
       " 'ticlNtuplizer/candidates;1',\n",
       " 'ticlNtuplizer/trackstersMerged;1',\n",
       " 'ticlNtuplizer/associations;1',\n",
       " 'ticlNtuplizer/simtrackstersSC;1',\n",
       " 'ticlNtuplizer/simtrackstersCP;1',\n",
       " 'ticlNtuplizer/tracks;1']"
      ]
     },
     "execution_count": 4,
     "metadata": {},
     "output_type": "execute_result"
    }
   ],
   "source": [
    "file.keys()"
   ]
  },
  {
   "cell_type": "code",
   "execution_count": 5,
   "metadata": {},
   "outputs": [],
   "source": [
    "tracksters = file[\"ticlNtuplizer/tracksters\"]"
   ]
  },
  {
   "cell_type": "code",
   "execution_count": 6,
   "metadata": {},
   "outputs": [
    {
     "data": {
      "text/plain": [
       "['event',\n",
       " 'NClusters',\n",
       " 'NTracksters',\n",
       " 'time',\n",
       " 'timeError',\n",
       " 'regressed_energy',\n",
       " 'raw_energy',\n",
       " 'raw_em_energy',\n",
       " 'raw_pt',\n",
       " 'raw_em_pt',\n",
       " 'barycenter_x',\n",
       " 'barycenter_y',\n",
       " 'barycenter_z',\n",
       " 'trackster_barycenter_eta',\n",
       " 'trackster_barycenter_phi',\n",
       " 'EV1',\n",
       " 'EV2',\n",
       " 'EV3',\n",
       " 'eVector0_x',\n",
       " 'eVector0_y',\n",
       " 'eVector0_z',\n",
       " 'sigmaPCA1',\n",
       " 'sigmaPCA2',\n",
       " 'sigmaPCA3',\n",
       " 'id_probabilities',\n",
       " 'vertices_indexes',\n",
       " 'vertices_x',\n",
       " 'vertices_y',\n",
       " 'vertices_z',\n",
       " 'vertices_energy',\n",
       " 'vertices_correctedEnergy',\n",
       " 'vertices_correctedEnergyUncertainty',\n",
       " 'vertices_multiplicity',\n",
       " 'layer_cluster_seed']"
      ]
     },
     "execution_count": 6,
     "metadata": {},
     "output_type": "execute_result"
    }
   ],
   "source": [
    "tracksters.keys()"
   ]
  },
  {
   "cell_type": "code",
   "execution_count": 8,
   "metadata": {},
   "outputs": [
    {
     "data": {
      "text/plain": [
       "<Array [1, 2, 3, 4, 5, ... 96, 97, 98, 99, 100] type='100 * uint32'>"
      ]
     },
     "execution_count": 8,
     "metadata": {},
     "output_type": "execute_result"
    }
   ],
   "source": [
    "tracksters['event'].array()"
   ]
  },
  {
   "cell_type": "code",
   "execution_count": 9,
   "metadata": {},
   "outputs": [],
   "source": [
    "vertices_indexes = tracksters['vertices_indexes'].array()"
   ]
  },
  {
   "cell_type": "code",
   "execution_count": 10,
   "metadata": {},
   "outputs": [
    {
     "data": {
      "text/plain": [
       "<Array [[[1, 9, 26, 33, ... 873, 918, 941]]] type='100 * var * var * int64'>"
      ]
     },
     "execution_count": 10,
     "metadata": {},
     "output_type": "execute_result"
    }
   ],
   "source": [
    "vertices_indexes"
   ]
  },
  {
   "cell_type": "code",
   "execution_count": 15,
   "metadata": {},
   "outputs": [],
   "source": [
    "events = tracksters['event'].array()"
   ]
  },
  {
   "cell_type": "code",
   "execution_count": 17,
   "metadata": {},
   "outputs": [],
   "source": [
    "ev1 = events == 1"
   ]
  },
  {
   "cell_type": "code",
   "execution_count": 21,
   "metadata": {},
   "outputs": [
    {
     "data": {
      "text/plain": [
       "<Array [[1, 9, 26, 33, ... 905, 915, 916, 919]] type='7 * var * int64'>"
      ]
     },
     "execution_count": 21,
     "metadata": {},
     "output_type": "execute_result"
    }
   ],
   "source": [
    "vertices_indexes[0,:,:]"
   ]
  },
  {
   "cell_type": "code",
   "execution_count": 22,
   "metadata": {},
   "outputs": [],
   "source": [
    "energy = tracksters['raw_energy'].array()"
   ]
  },
  {
   "cell_type": "code",
   "execution_count": 25,
   "metadata": {},
   "outputs": [
    {
     "name": "stdout",
     "output_type": "stream",
     "text": [
      "7.291911602020264\n",
      "316.1471862792969\n",
      "4.733433723449707\n",
      "1.2666980028152466\n",
      "2.157304525375366\n",
      "4.474212169647217\n",
      "325.08062744140625\n"
     ]
    }
   ],
   "source": [
    "for i in energy[0]:\n",
    "    print(i)"
   ]
  },
  {
   "cell_type": "code",
   "execution_count": 26,
   "metadata": {},
   "outputs": [],
   "source": [
    "z_coord = tracksters['barycenter_z'].array()"
   ]
  },
  {
   "cell_type": "code",
   "execution_count": 29,
   "metadata": {},
   "outputs": [
    {
     "name": "stdout",
     "output_type": "stream",
     "text": [
      "-330.31744384765625\n",
      "-336.9144592285156\n",
      "-337.2500915527344\n",
      "-342.60626220703125\n",
      "-353.27239990234375\n",
      "339.6725769042969\n",
      "335.2998352050781\n"
     ]
    }
   ],
   "source": [
    "for i in z_coord[0]:\n",
    "    print(i)"
   ]
  },
  {
   "cell_type": "code",
   "execution_count": 30,
   "metadata": {},
   "outputs": [
    {
     "data": {
      "text/plain": [
       "7"
      ]
     },
     "execution_count": 30,
     "metadata": {},
     "output_type": "execute_result"
    }
   ],
   "source": [
    "len(energy[0])"
   ]
  },
  {
   "cell_type": "code",
   "execution_count": 32,
   "metadata": {},
   "outputs": [],
   "source": [
    "tracksters_mask = (z_coord > 0) & (energy > 10)"
   ]
  },
  {
   "cell_type": "code",
   "execution_count": 33,
   "metadata": {},
   "outputs": [
    {
     "data": {
      "text/plain": [
       "<Array [[False, False, ... False, False]] type='100 * var * bool'>"
      ]
     },
     "execution_count": 33,
     "metadata": {},
     "output_type": "execute_result"
    }
   ],
   "source": [
    "tracksters_mask"
   ]
  },
  {
   "cell_type": "code",
   "execution_count": 44,
   "metadata": {},
   "outputs": [],
   "source": [
    "energy_slimmed = energy[(energy > 20) & (z_coord > 0)]"
   ]
  },
  {
   "cell_type": "code",
   "execution_count": 59,
   "metadata": {
    "scrolled": true
   },
   "outputs": [],
   "source": [
    "edges = ak.ArrayBuilder()\n",
    "for event in vertices_indexes:\n",
    "    edges.begin_list()\n",
    "    for trackster in event:\n",
    "        edges.begin_list()\n",
    "        for i in range(len(trackster)):\n",
    "            edges.begin_tuple(2)\n",
    "            edges.index(0).integer(trackster[i])\n",
    "            if i < len(trackster)-1:\n",
    "                edges.index(1).integer(trackster[i+1])\n",
    "            else:\n",
    "                edges.index(1).integer(trackster[0])\n",
    "            edges.end_tuple()\n",
    "        edges.end_list()\n",
    "    edges.end_list()"
   ]
  },
  {
   "cell_type": "code",
   "execution_count": 62,
   "metadata": {},
   "outputs": [
    {
     "data": {
      "text/plain": [
       "<Array [(1, 9), (9, 26), ... 261), (261, 1)] type='27 * (int64, int64)'>"
      ]
     },
     "execution_count": 62,
     "metadata": {},
     "output_type": "execute_result"
    }
   ],
   "source": [
    "edges[0,0]"
   ]
  },
  {
   "cell_type": "code",
   "execution_count": 63,
   "metadata": {},
   "outputs": [
    {
     "data": {
      "text/plain": [
       "<Array [1, 9, 26, 33, ... 184, 204, 257, 261] type='27 * int64'>"
      ]
     },
     "execution_count": 63,
     "metadata": {},
     "output_type": "execute_result"
    }
   ],
   "source": [
    "vertices_indexes[0,0]"
   ]
  },
  {
   "cell_type": "code",
   "execution_count": null,
   "metadata": {},
   "outputs": [],
   "source": []
  }
 ],
 "metadata": {
  "kernelspec": {
   "display_name": "ticlenv",
   "language": "python",
   "name": "ticlenv"
  },
  "language_info": {
   "codemirror_mode": {
    "name": "ipython",
    "version": 3
   },
   "file_extension": ".py",
   "mimetype": "text/x-python",
   "name": "python",
   "nbconvert_exporter": "python",
   "pygments_lexer": "ipython3",
   "version": "3.6.5"
  }
 },
 "nbformat": 4,
 "nbformat_minor": 2
}
