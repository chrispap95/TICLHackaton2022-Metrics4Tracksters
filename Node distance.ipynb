{
 "cells": [
  {
   "cell_type": "code",
   "execution_count": 3,
   "metadata": {},
   "outputs": [],
   "source": [
    "import numpy as np\n",
    "import awkward as ak\n",
    "import uproot"
   ]
  },
  {
   "cell_type": "code",
   "execution_count": 4,
   "metadata": {},
   "outputs": [],
   "source": [
    "filename = \"ntuples_13723003_0.root\"\n",
    "file = uproot.open(filename)"
   ]
  },
  {
   "cell_type": "code",
   "execution_count": 5,
   "metadata": {},
   "outputs": [],
   "source": [
    "tracksters = file[\"ticlNtuplizer/tracksters\"]"
   ]
  },
  {
   "cell_type": "code",
   "execution_count": 6,
   "metadata": {},
   "outputs": [
    {
     "data": {
      "text/plain": [
       "['event',\n",
       " 'NClusters',\n",
       " 'NTracksters',\n",
       " 'time',\n",
       " 'timeError',\n",
       " 'regressed_energy',\n",
       " 'raw_energy',\n",
       " 'raw_em_energy',\n",
       " 'raw_pt',\n",
       " 'raw_em_pt',\n",
       " 'barycenter_x',\n",
       " 'barycenter_y',\n",
       " 'barycenter_z',\n",
       " 'trackster_barycenter_eta',\n",
       " 'trackster_barycenter_phi',\n",
       " 'EV1',\n",
       " 'EV2',\n",
       " 'EV3',\n",
       " 'eVector0_x',\n",
       " 'eVector0_y',\n",
       " 'eVector0_z',\n",
       " 'sigmaPCA1',\n",
       " 'sigmaPCA2',\n",
       " 'sigmaPCA3',\n",
       " 'id_probabilities',\n",
       " 'vertices_indexes',\n",
       " 'vertices_x',\n",
       " 'vertices_y',\n",
       " 'vertices_z',\n",
       " 'vertices_energy',\n",
       " 'vertices_correctedEnergy',\n",
       " 'vertices_correctedEnergyUncertainty',\n",
       " 'vertices_multiplicity',\n",
       " 'layer_cluster_seed']"
      ]
     },
     "execution_count": 6,
     "metadata": {},
     "output_type": "execute_result"
    }
   ],
   "source": [
    "tracksters.keys()"
   ]
  },
  {
   "cell_type": "code",
   "execution_count": 7,
   "metadata": {},
   "outputs": [],
   "source": [
    "vertices_indexes = tracksters['vertices_indexes'].array()"
   ]
  },
  {
   "cell_type": "code",
   "execution_count": 8,
   "metadata": {},
   "outputs": [],
   "source": [
    "events = tracksters['event'].array()"
   ]
  },
  {
   "cell_type": "code",
   "execution_count": 9,
   "metadata": {},
   "outputs": [],
   "source": [
    "energy = tracksters['raw_energy'].array()"
   ]
  },
  {
   "cell_type": "code",
   "execution_count": 10,
   "metadata": {},
   "outputs": [],
   "source": [
    "vertices_x = tracksters['vertices_x'].array()\n",
    "vertices_y = tracksters['vertices_y'].array()\n",
    "vertices_z = tracksters['vertices_z'].array()"
   ]
  },
  {
   "cell_type": "code",
   "execution_count": 26,
   "metadata": {},
   "outputs": [],
   "source": [
    "ver_x = ak.to_numpy(vertices_x[0,0])\n",
    "ver_y = ak.to_numpy(vertices_y[0,0])\n",
    "ver_z = ak.to_numpy(vertices_z[0,0])\n",
    "diff_x = np.subtract.outer(ver_x,ver_x)\n",
    "diff_y = np.subtract.outer(ver_y,ver_y)\n",
    "diff_z = np.subtract.outer(ver_z,ver_z)"
   ]
  },
  {
   "cell_type": "code",
   "execution_count": 28,
   "metadata": {},
   "outputs": [],
   "source": [
    "euclidean_matrix = np.sqrt(diff_x**2+diff_y**2+diff_z**2)"
   ]
  },
  {
   "cell_type": "code",
   "execution_count": 30,
   "metadata": {},
   "outputs": [
    {
     "data": {
      "text/plain": [
       "array([[0.        , 1.02107053, 3.08689687],\n",
       "       [1.02107053, 0.        , 2.11901572],\n",
       "       [3.08689687, 2.11901572, 0.        ]])"
      ]
     },
     "execution_count": 30,
     "metadata": {},
     "output_type": "execute_result"
    }
   ],
   "source": [
    "euclidean_matrix[:3,:3]"
   ]
  },
  {
   "cell_type": "code",
   "execution_count": 32,
   "metadata": {},
   "outputs": [],
   "source": [
    "ver_E = ak.to_numpy(tracksters['vertices_energy'].array()[0,0])"
   ]
  },
  {
   "cell_type": "code",
   "execution_count": 33,
   "metadata": {},
   "outputs": [
    {
     "data": {
      "text/plain": [
       "array([0.11006816, 0.38855466, 0.41010365, 1.13334072, 0.0397309 ,\n",
       "       1.29394758, 0.99865955, 0.21616301, 0.11245865, 0.18585978,\n",
       "       0.06195327, 0.04781175, 0.17037147, 0.44175372, 0.08615625,\n",
       "       0.43010813, 0.06730957, 0.07404052, 0.03836645, 0.08817554,\n",
       "       0.03165004, 0.18653318, 0.1070714 , 0.24781305, 0.16902466,\n",
       "       0.11178791, 0.04309896])"
      ]
     },
     "execution_count": 33,
     "metadata": {},
     "output_type": "execute_result"
    }
   ],
   "source": [
    "ver_E"
   ]
  },
  {
   "cell_type": "code",
   "execution_count": 44,
   "metadata": {},
   "outputs": [],
   "source": [
    "max_val = np.max(euclidean_matrix[0][ver_E > ver_E[0]])"
   ]
  },
  {
   "cell_type": "code",
   "execution_count": 50,
   "metadata": {},
   "outputs": [
    {
     "ename": "TypeError",
     "evalue": "int() argument must be a string, a bytes-like object or a number, not 'tuple'",
     "output_type": "error",
     "traceback": [
      "\u001b[0;31m---------------------------------------------------------------------------\u001b[0m",
      "\u001b[0;31mTypeError\u001b[0m                                 Traceback (most recent call last)",
      "\u001b[0;32m<ipython-input-50-63a7b8018d82>\u001b[0m in \u001b[0;36m<module>\u001b[0;34m\u001b[0m\n\u001b[0;32m----> 1\u001b[0;31m \u001b[0mint\u001b[0m\u001b[0;34m(\u001b[0m\u001b[0mnp\u001b[0m\u001b[0;34m.\u001b[0m\u001b[0mwhere\u001b[0m\u001b[0;34m(\u001b[0m\u001b[0meuclidean_matrix\u001b[0m\u001b[0;34m[\u001b[0m\u001b[0;36m0\u001b[0m\u001b[0;34m]\u001b[0m \u001b[0;34m==\u001b[0m \u001b[0mmax_val\u001b[0m\u001b[0;34m)\u001b[0m\u001b[0;34m)\u001b[0m\u001b[0;34m\u001b[0m\u001b[0m\n\u001b[0m",
      "\u001b[0;31mTypeError\u001b[0m: int() argument must be a string, a bytes-like object or a number, not 'tuple'"
     ]
    }
   ],
   "source": [
    "np.where(euclidean_matrix[0] == max_val)"
   ]
  },
  {
   "cell_type": "code",
   "execution_count": 42,
   "metadata": {},
   "outputs": [
    {
     "data": {
      "text/plain": [
       "array([False,  True, False, False, False, False, False, False, False,\n",
       "       False, False, False, False, False, False, False, False, False,\n",
       "       False, False, False, False, False, False, False, False, False])"
      ]
     },
     "execution_count": 42,
     "metadata": {},
     "output_type": "execute_result"
    }
   ],
   "source": [
    "euclidean_matrix[0] == min_val"
   ]
  },
  {
   "cell_type": "code",
   "execution_count": 54,
   "metadata": {},
   "outputs": [],
   "source": [
    "vertices_indexes00 = vertices_indexes[0,0]"
   ]
  },
  {
   "cell_type": "code",
   "execution_count": 57,
   "metadata": {
    "scrolled": true
   },
   "outputs": [
    {
     "name": "stdout",
     "output_type": "stream",
     "text": [
      "Node 1 should be connected with node 9\n",
      "Node 9 should be connected with node 26\n",
      "Node 26 should be connected with node 33\n",
      "Node 33 should be connected with node 45\n",
      "Node 43 should be connected with node 45\n",
      "Node 59 should be connected with node 45\n",
      "Node 63 should be connected with node 59\n",
      "Node 72 should be connected with node 88\n",
      "Node 88 should be connected with node 113\n",
      "Node 98 should be connected with node 113\n",
      "Node 109 should be connected with node 112\n",
      "Node 112 should be connected with node 135\n",
      "Node 113 should be connected with node 59\n",
      "Node 134 should be connected with node 182\n",
      "Node 135 should be connected with node 113\n",
      "Node 136 should be connected with node 135\n",
      "Node 159 should be connected with node 161\n",
      "Node 160 should be connected with node 159\n",
      "Node 161 should be connected with node 183\n",
      "Node 181 should be connected with node 182\n",
      "Node 182 should be connected with node 184\n",
      "Node 183 should be connected with node 135\n",
      "Node 184 should be connected with node 135\n",
      "Node 204 should be connected with node 182\n",
      "Node 257 should be connected with node 204\n",
      "Node 261 should be connected with node 257\n"
     ]
    }
   ],
   "source": [
    "for i in range(len(vertices_indexes00)):\n",
    "    dist_array = euclidean_matrix[i][ver_E > ver_E[i]]\n",
    "    if len(dist_array) == 0:\n",
    "        continue\n",
    "    min_val = np.min(dist_array)\n",
    "    idx = np.where(euclidean_matrix[i] == min_val)[0][0]\n",
    "    print(\"Node %d should be connected with node %d\"%(vertices_indexes00[i],vertices_indexes00[idx]))"
   ]
  },
  {
   "cell_type": "code",
   "execution_count": 65,
   "metadata": {},
   "outputs": [],
   "source": [
    "from src.functions import euclideanMatrix"
   ]
  },
  {
   "cell_type": "code",
   "execution_count": 83,
   "metadata": {},
   "outputs": [],
   "source": [
    "vertices_E = tracksters['vertices_energy'].array()\n",
    "edges = ak.ArrayBuilder()\n",
    "for ide, v_event in enumerate(vertices_indexes):\n",
    "    edges.begin_list()\n",
    "    for idt, v_trackster in enumerate(v_event):\n",
    "        euMatr = euclideanMatrix(vertices_x[ide,idt],vertices_y[ide,idt],vertices_z[ide,idt])\n",
    "        edges.begin_list()\n",
    "        for idn, v_node in enumerate(v_trackster):\n",
    "            dist_array = euMatr[idn][vertices_E[ide,idt] > vertices_E[ide,idt,idn]]\n",
    "            if len(dist_array) == 0:\n",
    "                continue\n",
    "            min_val = np.min(dist_array)\n",
    "            idx = np.where(euMatr[idn] == min_val)[0][0]\n",
    "            edges.begin_tuple(2)\n",
    "            edges.index(0).integer(v_node)\n",
    "            edges.index(1).integer(v_trackster[idx])\n",
    "            edges.end_tuple()\n",
    "        edges.end_list()\n",
    "    edges.end_list()"
   ]
  },
  {
   "cell_type": "code",
   "execution_count": 84,
   "metadata": {},
   "outputs": [
    {
     "data": {
      "text/plain": [
       "<ArrayBuilder [[[(1, 9), (9, 26, ... ), (941, 873)]]] type='100 * var * var * (i...'>"
      ]
     },
     "execution_count": 84,
     "metadata": {},
     "output_type": "execute_result"
    }
   ],
   "source": [
    "edges"
   ]
  },
  {
   "cell_type": "code",
   "execution_count": 86,
   "metadata": {},
   "outputs": [
    {
     "data": {
      "text/plain": [
       "<Array [(1, 9), (9, 26), ... 204), (261, 257)] type='26 * (int64, int64)'>"
      ]
     },
     "execution_count": 86,
     "metadata": {},
     "output_type": "execute_result"
    }
   ],
   "source": [
    "edges[0,0]"
   ]
  },
  {
   "cell_type": "code",
   "execution_count": null,
   "metadata": {},
   "outputs": [],
   "source": []
  }
 ],
 "metadata": {
  "kernelspec": {
   "display_name": "ticlenv",
   "language": "python",
   "name": "ticlenv"
  },
  "language_info": {
   "codemirror_mode": {
    "name": "ipython",
    "version": 3
   },
   "file_extension": ".py",
   "mimetype": "text/x-python",
   "name": "python",
   "nbconvert_exporter": "python",
   "pygments_lexer": "ipython3",
   "version": "3.6.5"
  }
 },
 "nbformat": 4,
 "nbformat_minor": 2
}
