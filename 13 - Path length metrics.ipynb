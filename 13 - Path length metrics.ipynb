{
 "cells": [
  {
   "cell_type": "code",
   "execution_count": 1,
   "metadata": {},
   "outputs": [],
   "source": [
    "import numpy as np\n",
    "import awkward as ak\n",
    "import uproot\n",
    "import src.functions as fn\n",
    "import matplotlib as mpl\n",
    "import matplotlib.pyplot as plt\n",
    "from mpl_toolkits.mplot3d import Axes3D\n",
    "from pylab import cm"
   ]
  },
  {
   "cell_type": "code",
   "execution_count": 2,
   "metadata": {},
   "outputs": [],
   "source": [
    "import mplhep as hep\n",
    "\n",
    "# Make plots look more HEP-like\n",
    "plt.style.use(hep.style.ROOT)"
   ]
  },
  {
   "cell_type": "code",
   "execution_count": 3,
   "metadata": {},
   "outputs": [],
   "source": [
    "filename = \"tracksters_ds_200e.root\"\n",
    "file = uproot.open(filename)\n",
    "tracksters = file['tracksters']"
   ]
  },
  {
   "cell_type": "code",
   "execution_count": 10,
   "metadata": {},
   "outputs": [],
   "source": [
    "vertices_indexes = tracksters['vertices_indexes'].array()\n",
    "vertices_x = tracksters['vertices_x'].array()\n",
    "vertices_y = tracksters['vertices_y'].array()\n",
    "vertices_z = tracksters['vertices_z'].array()\n",
    "vertices_E = tracksters['vertices_energy'].array()\n",
    "trackster_label = tracksters['trackster_label'].array()"
   ]
  },
  {
   "cell_type": "code",
   "execution_count": 20,
   "metadata": {},
   "outputs": [],
   "source": [
    "complete = trackster_label == 1\n",
    "incomplete = trackster_label == 0"
   ]
  },
  {
   "cell_type": "code",
   "execution_count": 25,
   "metadata": {},
   "outputs": [],
   "source": [
    "vertices_indexes_inc = vertices_indexes[incomplete]\n",
    "vertices_x_inc = vertices_x[incomplete]\n",
    "vertices_y_inc = vertices_y[incomplete]\n",
    "vertices_z_inc = vertices_z[incomplete]\n",
    "vertices_E_inc = vertices_E[incomplete]\n",
    "\n",
    "vertices_indexes_com = vertices_indexes[complete]\n",
    "vertices_x_com = vertices_x[complete]\n",
    "vertices_y_com = vertices_y[complete]\n",
    "vertices_z_com = vertices_z[complete]\n",
    "vertices_E_com = vertices_E[complete]"
   ]
  },
  {
   "cell_type": "code",
   "execution_count": 38,
   "metadata": {},
   "outputs": [],
   "source": [
    "tooSmall_inc = ak.num(vertices_indexes_inc,axis=-1) > 2\n",
    "tooSmall_com = ak.num(vertices_indexes_com,axis=-1) > 2"
   ]
  },
  {
   "cell_type": "code",
   "execution_count": 39,
   "metadata": {},
   "outputs": [],
   "source": [
    "vertices_indexes_inc_g = vertices_indexes_inc[tooSmall_inc]\n",
    "vertices_x_inc_g = vertices_x_inc[tooSmall_inc]\n",
    "vertices_y_inc_g = vertices_y_inc[tooSmall_inc]\n",
    "vertices_z_inc_g = vertices_z_inc[tooSmall_inc]\n",
    "vertices_E_inc_g = vertices_E_inc[tooSmall_inc]\n",
    "\n",
    "vertices_indexes_com_g = vertices_indexes_com[tooSmall_com]\n",
    "vertices_x_com_g = vertices_x_com[tooSmall_com]\n",
    "vertices_y_com_g = vertices_y_com[tooSmall_com]\n",
    "vertices_z_com_g = vertices_z_com[tooSmall_com]\n",
    "vertices_E_com_g = vertices_E_com[tooSmall_com]"
   ]
  },
  {
   "cell_type": "code",
   "execution_count": 82,
   "metadata": {},
   "outputs": [
    {
     "name": "stdout",
     "output_type": "stream",
     "text": [
      "CPU times: user 6min 10s, sys: 359 ms, total: 6min 10s\n",
      "Wall time: 6min 10s\n"
     ]
    }
   ],
   "source": [
    "%%time\n",
    "\n",
    "# How many to run:\n",
    "# to run all available N_tr = len(vertices_indexes_inc_g)\n",
    "N_tr = 10000\n",
    "\n",
    "path1_inc = np.zeros(N_tr)\n",
    "path5_inc = np.zeros(N_tr)\n",
    "path1_inc_norm = np.zeros(N_tr)\n",
    "path5_inc_norm = np.zeros(N_tr)\n",
    "for tr in range(N_tr):\n",
    "    v_ind = vertices_indexes_inc_g[tr]\n",
    "    v_x = vertices_x_inc_g[tr]\n",
    "    v_y = vertices_y_inc_g[tr]\n",
    "    v_z = vertices_z_inc_g[tr]\n",
    "    v_E = vertices_E_inc_g[tr]\n",
    "    edges_1 = fn.edgeBuilderNew(\n",
    "        v_ind,\n",
    "        v_x, \n",
    "        v_y, \n",
    "        v_z, \n",
    "        v_E\n",
    "    )\n",
    "    edges_5 = fn.edgeBuilderNew(\n",
    "        v_ind,\n",
    "        v_x, \n",
    "        v_y, \n",
    "        v_z, \n",
    "        v_E,\n",
    "        nEdg=5\n",
    "    )\n",
    "    edges_fl_1 = ak.flatten(edges_1[ak.num(edges_1) > 0].to_list())\n",
    "    edges_fl_5 = ak.flatten(edges_5[ak.num(edges_5) > 0].to_list())\n",
    "    c_eig_1 = fn.nXCentralityEigen(v_ind,edges_fl_1)\n",
    "    c_eig_5 = fn.nXCentralityEigen(v_ind,edges_fl_5)\n",
    "    path1_inc[tr] = fn.longestPathSource(v_ind, edges_fl_1, c_eig_1)\n",
    "    path5_inc[tr] = fn.longestPathSource(v_ind, edges_fl_5, c_eig_5)\n",
    "    path1_inc_norm[tr] = fn.longestPathSource(v_ind, edges_fl_1, c_eig_1)/len(v_ind)\n",
    "    path5_inc_norm[tr] = fn.longestPathSource(v_ind, edges_fl_5, c_eig_5)/len(v_ind)"
   ]
  },
  {
   "cell_type": "code",
   "execution_count": 83,
   "metadata": {},
   "outputs": [
    {
     "name": "stdout",
     "output_type": "stream",
     "text": [
      "CPU times: user 13min 38s, sys: 740 ms, total: 13min 39s\n",
      "Wall time: 13min 39s\n"
     ]
    }
   ],
   "source": [
    "%%time\n",
    "\n",
    "# How many to run:\n",
    "# to run all available N_tr = len(vertices_indexes_com_g)\n",
    "N_tr = 10000\n",
    "\n",
    "path1_com = np.zeros(N_tr)\n",
    "path5_com = np.zeros(N_tr)\n",
    "path1_com_norm = np.zeros(N_tr)\n",
    "path5_com_norm = np.zeros(N_tr)\n",
    "for tr in range(N_tr):\n",
    "    v_ind = vertices_indexes_com_g[tr]\n",
    "    v_x = vertices_x_com_g[tr]\n",
    "    v_y = vertices_y_com_g[tr]\n",
    "    v_z = vertices_z_com_g[tr]\n",
    "    v_E = vertices_E_com_g[tr]\n",
    "    edges_1 = fn.edgeBuilderNew(\n",
    "        v_ind,\n",
    "        v_x, \n",
    "        v_y, \n",
    "        v_z, \n",
    "        v_E\n",
    "    )\n",
    "    edges_5 = fn.edgeBuilderNew(\n",
    "        v_ind,\n",
    "        v_x, \n",
    "        v_y, \n",
    "        v_z, \n",
    "        v_E,\n",
    "        nEdg=5\n",
    "    )\n",
    "    edges_fl_1 = ak.flatten(edges_1[ak.num(edges_1) > 0].to_list())\n",
    "    edges_fl_5 = ak.flatten(edges_5[ak.num(edges_5) > 0].to_list())\n",
    "    c_eig_1 = fn.nXCentralityEigen(v_ind,edges_fl_1)\n",
    "    c_eig_5 = fn.nXCentralityEigen(v_ind,edges_fl_5)\n",
    "    path1_com[tr] = fn.longestPathSource(v_ind, edges_fl_1, c_eig_1)\n",
    "    path5_com[tr] = fn.longestPathSource(v_ind, edges_fl_5, c_eig_5)\n",
    "    path1_com_norm[tr] = fn.longestPathSource(v_ind, edges_fl_1, c_eig_1)/len(v_ind)\n",
    "    path5_com_norm[tr] = fn.longestPathSource(v_ind, edges_fl_5, c_eig_5)/len(v_ind)"
   ]
  },
  {
   "cell_type": "code",
   "execution_count": 89,
   "metadata": {},
   "outputs": [
    {
     "data": {
      "image/png": "[encoded data removed]",
      "text/plain": [
       "<Figure size 720x576 with 1 Axes>"
      ]
     },
     "metadata": {
      "needs_background": "light"
     },
     "output_type": "display_data"
    }
   ],
   "source": [
    "%matplotlib inline\n",
    "fig = plt.figure(figsize=(10,8))\n",
    "ax = fig.add_subplot(111)\n",
    "plt.hist(path1_com, density=True, histtype='step', bins=20, color='b', alpha=0.7, label='complete')\n",
    "plt.hist(path1_inc, density=True, histtype='step', bins=9, color='r', alpha=0.7, label='incomplete')\n",
    "plt.legend()\n",
    "plt.ylabel(\"N\")\n",
    "plt.xlabel(\"Longest path in the network\")\n",
    "plt.show()"
   ]
  },
  {
   "cell_type": "code",
   "execution_count": 91,
   "metadata": {},
   "outputs": [
    {
     "data": {
      "image/png": "[encoded data removed]",
      "text/plain": [
       "<Figure size 720x576 with 1 Axes>"
      ]
     },
     "metadata": {
      "needs_background": "light"
     },
     "output_type": "display_data"
    }
   ],
   "source": [
    "%matplotlib inline\n",
    "fig = plt.figure(figsize=(10,8))\n",
    "ax = fig.add_subplot(111)\n",
    "plt.hist(path5_com, density=True, histtype='step', bins=5, color='b', alpha=0.7, label='complete')\n",
    "plt.hist(path5_inc, density=True, histtype='step', bins=2, color='r', alpha=0.7, label='incomplete')\n",
    "plt.legend()\n",
    "plt.ylabel(\"N\")\n",
    "plt.xlabel(\"Longest path in the network\")\n",
    "plt.show()"
   ]
  },
  {
   "cell_type": "code",
   "execution_count": 92,
   "metadata": {},
   "outputs": [
    {
     "data": {
      "image/png": "[encoded data removed]",
      "text/plain": [
       "<Figure size 720x576 with 1 Axes>"
      ]
     },
     "metadata": {
      "needs_background": "light"
     },
     "output_type": "display_data"
    }
   ],
   "source": [
    "%matplotlib inline\n",
    "fig = plt.figure(figsize=(10,8))\n",
    "ax = fig.add_subplot(111)\n",
    "plt.hist(path1_com_norm, density=True, histtype='step', bins=10, color='b', alpha=0.7, label='complete')\n",
    "plt.hist(path1_inc_norm, density=True, histtype='step', bins=8, color='r', alpha=0.7, label='incomplete')\n",
    "plt.legend()\n",
    "plt.ylabel(\"N\")\n",
    "plt.xlabel(\"Longest path in the network\")\n",
    "plt.show()"
   ]
  },
  {
   "cell_type": "code",
   "execution_count": 94,
   "metadata": {},
   "outputs": [
    {
     "data": {
      "image/png": "[encoded data removed]",
      "text/plain": [
       "<Figure size 720x576 with 1 Axes>"
      ]
     },
     "metadata": {
      "needs_background": "light"
     },
     "output_type": "display_data"
    }
   ],
   "source": [
    "%matplotlib inline\n",
    "fig = plt.figure(figsize=(10,8))\n",
    "ax = fig.add_subplot(111)\n",
    "plt.hist(path5_com_norm, density=True, histtype='step', bins=6, color='b', alpha=0.7, label='complete')\n",
    "plt.hist(path5_inc_norm, density=True, histtype='step', bins=6, color='r', alpha=0.7, label='incomplete')\n",
    "plt.legend()\n",
    "plt.ylabel(\"N\")\n",
    "plt.xlabel(\"Longest path in the network\")\n",
    "plt.show()"
   ]
  },
  {
   "cell_type": "code",
   "execution_count": null,
   "metadata": {},
   "outputs": [],
   "source": []
  }
 ],
 "metadata": {
  "kernelspec": {
   "display_name": "ticlenv",
   "language": "python",
   "name": "ticlenv"
  },
  "language_info": {
   "codemirror_mode": {
    "name": "ipython",
    "version": 3
   },
   "file_extension": ".py",
   "mimetype": "text/x-python",
   "name": "python",
   "nbconvert_exporter": "python",
   "pygments_lexer": "ipython3",
   "version": "3.6.5"
  }
 },
 "nbformat": 4,
 "nbformat_minor": 2
}
