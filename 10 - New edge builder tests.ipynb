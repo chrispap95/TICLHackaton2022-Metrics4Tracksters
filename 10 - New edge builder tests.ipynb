{
 "cells": [
  {
   "cell_type": "markdown",
   "metadata": {},
   "source": [
    "# 10 - New edge builder tests\n",
    "\n",
    "Test for new edge builder"
   ]
  },
  {
   "cell_type": "code",
   "execution_count": 8,
   "metadata": {},
   "outputs": [],
   "source": [
    "import numpy as np\n",
    "import awkward as ak\n",
    "import uproot\n",
    "import src.functions as fn\n",
    "import matplotlib as mpl\n",
    "import matplotlib.pyplot as plt\n",
    "from mpl_toolkits.mplot3d import Axes3D\n",
    "from pylab import cm"
   ]
  },
  {
   "cell_type": "code",
   "execution_count": 9,
   "metadata": {},
   "outputs": [],
   "source": [
    "import mplhep as hep\n",
    "\n",
    "# Make plots look more HEP-like\n",
    "plt.style.use(hep.style.ROOT)"
   ]
  },
  {
   "cell_type": "code",
   "execution_count": 10,
   "metadata": {},
   "outputs": [],
   "source": [
    "filename = \"ntuples_13723003_0.root\"\n",
    "file = uproot.open(filename)\n",
    "tracksters = file[\"ticlNtuplizer/tracksters\"]"
   ]
  },
  {
   "cell_type": "code",
   "execution_count": 11,
   "metadata": {},
   "outputs": [],
   "source": [
    "vertices_indexes = tracksters['vertices_indexes'].array()\n",
    "vertices_x = tracksters['vertices_x'].array()\n",
    "vertices_y = tracksters['vertices_y'].array()\n",
    "vertices_z = tracksters['vertices_z'].array()\n",
    "vertices_E = tracksters['vertices_energy'].array()"
   ]
  },
  {
   "cell_type": "code",
   "execution_count": 12,
   "metadata": {},
   "outputs": [],
   "source": [
    "vertices_indexes_0 = vertices_indexes[0]\n",
    "vertices_x_0 = vertices_x[0]\n",
    "vertices_y_0 = vertices_y[0]\n",
    "vertices_z_0 = vertices_z[0]\n",
    "vertices_E_0 = vertices_E[0]"
   ]
  },
  {
   "cell_type": "markdown",
   "metadata": {},
   "source": [
    "Test for single event"
   ]
  },
  {
   "cell_type": "code",
   "execution_count": 13,
   "metadata": {},
   "outputs": [
    {
     "name": "stdout",
     "output_type": "stream",
     "text": [
      "447 ms ± 6.96 ms per loop (mean ± std. dev. of 7 runs, 1 loop each)\n"
     ]
    }
   ],
   "source": [
    "%%timeit\n",
    "fn.edgeBuilderNNTr(vertices_indexes_0, vertices_x_0, vertices_y_0, vertices_z_0, vertices_E_0)"
   ]
  },
  {
   "cell_type": "code",
   "execution_count": 15,
   "metadata": {},
   "outputs": [
    {
     "name": "stdout",
     "output_type": "stream",
     "text": [
      "44.4 ms ± 1.24 ms per loop (mean ± std. dev. of 7 runs, 10 loops each)\n"
     ]
    }
   ],
   "source": [
    "%%timeit\n",
    "for i in range(len(vertices_indexes_0)):\n",
    "    fn.edgeBuilderNew(\n",
    "        vertices_indexes_0[i], \n",
    "        vertices_x_0[i], \n",
    "        vertices_y_0[i], \n",
    "        vertices_z_0[i], \n",
    "        vertices_E_0[i]\n",
    "    )"
   ]
  },
  {
   "cell_type": "markdown",
   "metadata": {},
   "source": [
    "Test for 100 events"
   ]
  },
  {
   "cell_type": "code",
   "execution_count": 18,
   "metadata": {},
   "outputs": [
    {
     "name": "stdout",
     "output_type": "stream",
     "text": [
      "35.2 s ± 478 ms per loop (mean ± std. dev. of 7 runs, 1 loop each)\n"
     ]
    }
   ],
   "source": [
    "%%timeit\n",
    "fn.edgeBuilderNNEv(vertices_indexes, vertices_x, vertices_y, vertices_z, vertices_E)"
   ]
  },
  {
   "cell_type": "code",
   "execution_count": 24,
   "metadata": {},
   "outputs": [
    {
     "name": "stdout",
     "output_type": "stream",
     "text": [
      "3.68 s ± 25.9 ms per loop (mean ± std. dev. of 7 runs, 1 loop each)\n"
     ]
    }
   ],
   "source": [
    "%%timeit\n",
    "for i in range(len(vertices_indexes)): \n",
    "    for j in range(len(vertices_indexes[i])):\n",
    "        fn.edgeBuilderNew(\n",
    "            vertices_indexes[i,j],\n",
    "            vertices_x[i,j],\n",
    "            vertices_y[i,j], \n",
    "            vertices_z[i,j], \n",
    "            vertices_E[i,j]\n",
    "        )"
   ]
  },
  {
   "cell_type": "markdown",
   "metadata": {},
   "source": [
    "**Conclusion**: Looks like for now we are getting a 10x speedup. That's good for now, however, the function needs to be generalized to handle many tracksters per event and many events in a vectorized way."
   ]
  }
 ],
 "metadata": {
  "kernelspec": {
   "display_name": "ticlenv",
   "language": "python",
   "name": "ticlenv"
  },
  "language_info": {
   "codemirror_mode": {
    "name": "ipython",
    "version": 3
   },
   "file_extension": ".py",
   "mimetype": "text/x-python",
   "name": "python",
   "nbconvert_exporter": "python",
   "pygments_lexer": "ipython3",
   "version": "3.6.5"
  }
 },
 "nbformat": 4,
 "nbformat_minor": 2
}
