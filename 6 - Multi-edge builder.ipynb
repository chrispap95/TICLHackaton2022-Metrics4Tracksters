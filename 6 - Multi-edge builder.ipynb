{
 "cells": [
  {
   "cell_type": "code",
   "execution_count": 1,
   "metadata": {},
   "outputs": [],
   "source": [
    "import numpy as np\n",
    "import awkward as ak\n",
    "import uproot\n",
    "import src.functions as fn"
   ]
  },
  {
   "cell_type": "code",
   "execution_count": 2,
   "metadata": {},
   "outputs": [],
   "source": [
    "filename = \"ntuples_13723003_0.root\"\n",
    "file = uproot.open(filename)\n",
    "tracksters = file[\"ticlNtuplizer/tracksters\"]\n",
    "vertices_indexes = tracksters['vertices_indexes'].array()\n",
    "vertices_x = tracksters['vertices_x'].array()\n",
    "vertices_y = tracksters['vertices_y'].array()\n",
    "vertices_z = tracksters['vertices_z'].array()\n",
    "vertices_E = tracksters['vertices_energy'].array()"
   ]
  },
  {
   "cell_type": "code",
   "execution_count": 3,
   "metadata": {},
   "outputs": [],
   "source": [
    "vertices_indexes_00 = vertices_indexes[0,0]\n",
    "vertices_x_00 = vertices_x[0,0]\n",
    "vertices_y_00 = vertices_y[0,0]\n",
    "vertices_z_00 = vertices_z[0,0]\n",
    "vertices_E_00 = vertices_E[0,0]"
   ]
  },
  {
   "cell_type": "code",
   "execution_count": 4,
   "metadata": {},
   "outputs": [],
   "source": [
    "vertices_indexes_0 = vertices_indexes[0]\n",
    "vertices_x_0 = vertices_x[0]\n",
    "vertices_y_0 = vertices_y[0]\n",
    "vertices_z_0 = vertices_z[0]\n",
    "vertices_E_0 = vertices_E[0]"
   ]
  },
  {
   "cell_type": "code",
   "execution_count": 5,
   "metadata": {},
   "outputs": [
    {
     "data": {
      "text/plain": [
       "<Array [[(9, 1), (26, 1, ... 261), (134, 261)]] type='27 * var * (int64, int64)'>"
      ]
     },
     "execution_count": 5,
     "metadata": {},
     "output_type": "execute_result"
    }
   ],
   "source": [
    "indexes = np.stack([ak.to_numpy(vertices_indexes_00)]*len(vertices_indexes_00),axis=0)\n",
    "enMtrx = np.stack([ak.to_numpy(vertices_E_00)]*len(vertices_E_00),axis=0)\n",
    "energyMask = enMtrx > np.transpose(enMtrx)\n",
    "distMatr = fn.euclideanMatrix(vertices_x_00, vertices_y_00, vertices_z_00)\n",
    "distSort = np.argsort(distMatr,axis=1)\n",
    "#distMatrSorted = distMatr[np.arange(distMatr.shape[0])[:,None], distSort]\n",
    "energyMaskSorted = energyMask[np.arange(energyMask.shape[0])[:,None], distSort]\n",
    "indexesSorted = indexes[np.arange(energyMask.shape[0])[:,None], distSort]\n",
    "indexesSorted = ak.unflatten(ak.flatten(indexesSorted), ak.num(indexesSorted))\n",
    "energyMaskSorted = ak.unflatten(ak.flatten(energyMaskSorted), ak.num(energyMaskSorted))\n",
    "indexesSorted = indexesSorted[energyMaskSorted]\n",
    "indexesSorted = indexesSorted[:,:5]\n",
    "ak.cartesian([indexesSorted, vertices_indexes_00])"
   ]
  },
  {
   "cell_type": "code",
   "execution_count": 8,
   "metadata": {},
   "outputs": [],
   "source": [
    "def edgeBuilderNew(vertices_indexes, vertices_x, vertices_y, vertices_z, vertices_E, nEdg=1):\n",
    "    if len(vertices_indexes) <= nEdg:\n",
    "        raise ValueError(\"Number of attempted connections 'nEdg' cannot exceed the size of the graph\")\n",
    "    # Create matrix of indexes\n",
    "    indexes = np.stack([ak.to_numpy(vertices_indexes)]*len(vertices_indexes),axis=0)\n",
    "    # Perform energy filtering. Keep only nodes that have greater energy that the specified node\n",
    "    enMtrx = np.stack([ak.to_numpy(vertices_E)]*len(vertices_E),axis=0)\n",
    "    energyMask = enMtrx > np.transpose(enMtrx)\n",
    "    # Calculate euclidean distance between all nodes and apply energy mask\n",
    "    distMatr = fn.euclideanMatrix(vertices_x, vertices_y, vertices_z)\n",
    "    # Sort each row and keep the indexes of the sorted arrays\n",
    "    distSort = np.argsort(distMatr,axis=1)\n",
    "    # Sort the euclidean distance using the indexes from previous step\n",
    "    energyMaskSorted = energyMask[np.arange(energyMask.shape[0])[:,None], distSort]\n",
    "    indexesSorted = indexes[np.arange(energyMask.shape[0])[:,None], distSort]\n",
    "    # Some awkward magic - converts innermost array length from const to var\n",
    "    indexesSorted = ak.unflatten(ak.flatten(indexesSorted), ak.num(indexesSorted))\n",
    "    energyMaskSorted = ak.unflatten(ak.flatten(energyMaskSorted), ak.num(energyMaskSorted))\n",
    "    # Filter nodes that have lower energy and keep nEdg nearest neighbors\n",
    "    indexesSorted = indexesSorted[energyMaskSorted]\n",
    "    indexesSorted = indexesSorted[:,:nEdg]\n",
    "    return ak.cartesian([vertices_indexes, indexesSorted])"
   ]
  },
  {
   "cell_type": "code",
   "execution_count": 19,
   "metadata": {},
   "outputs": [
    {
     "name": "stdout",
     "output_type": "stream",
     "text": [
      "5.35 ms ± 17.5 µs per loop (mean ± std. dev. of 7 runs, 100 loops each)\n"
     ]
    }
   ],
   "source": [
    "%%timeit\n",
    "edgeBuilderNew(vertices_indexes_00, vertices_x_00, vertices_y_00, vertices_z_00, vertices_E_00, nEdg=5)"
   ]
  },
  {
   "cell_type": "code",
   "execution_count": 17,
   "metadata": {},
   "outputs": [
    {
     "name": "stdout",
     "output_type": "stream",
     "text": [
      "467 ms ± 4.27 ms per loop (mean ± std. dev. of 7 runs, 1 loop each)\n"
     ]
    }
   ],
   "source": [
    "%%timeit\n",
    "fn.edgeBuilderNNTr(vertices_indexes_0, vertices_x_0, vertices_y_0, vertices_z_0, vertices_E_0)"
   ]
  }
 ],
 "metadata": {
  "kernelspec": {
   "display_name": "ticlenv",
   "language": "python",
   "name": "ticlenv"
  },
  "language_info": {
   "codemirror_mode": {
    "name": "ipython",
    "version": 3
   },
   "file_extension": ".py",
   "mimetype": "text/x-python",
   "name": "python",
   "nbconvert_exporter": "python",
   "pygments_lexer": "ipython3",
   "version": "3.6.5"
  }
 },
 "nbformat": 4,
 "nbformat_minor": 2
}
