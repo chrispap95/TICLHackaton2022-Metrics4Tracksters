{
 "cells": [
  {
   "cell_type": "markdown",
   "metadata": {},
   "source": [
    "# Introduction to centralities\n",
    "\n",
    "In this notebook we implemented centralities and we are testing them. \n",
    "All the finished implementations can be imported directly from `src/functions.py`.\n",
    "\n",
    "## Implementations"
   ]
  },
  {
   "cell_type": "code",
   "execution_count": 7,
   "metadata": {},
   "outputs": [],
   "source": [
    "import numpy as np\n",
    "import awkward as ak\n",
    "import uproot"
   ]
  },
  {
   "cell_type": "code",
   "execution_count": 74,
   "metadata": {},
   "outputs": [],
   "source": [
    "def calcWeight(mode, cluster1, cluster2,n):\n",
    "    E1 = cluster1.energy()\n",
    "    E2 = cluster2.energy()\n",
    "    dx = cluster2.x()-cluster1.x()\n",
    "    dy = cluster2.y()-cluster1.y()\n",
    "    dz = cluster2.z()-cluster1.z()\n",
    "    dist = sqrt(np.power(dx,2)+np.power(dy,2)+np.power(dz,2))\n",
    "    \"\"\"\n",
    "    Default is not weighted\n",
    "    Method 1: max(E1, E2)\n",
    "    Method 2: |E1 - E2|\n",
    "    Method 3: (d)^(-n)\n",
    "    Method 4: (method 1 or 2)*(method 3)\n",
    "    \"\"\"\n",
    "    weight = 1;\n",
    "    if(mode==1):\n",
    "        weight = max(E1, E2)\n",
    "    elif(mode==2):\n",
    "        weight = np.abs(E1-E2)\n",
    "    elif(mode==3):\n",
    "        weight = np.power(dist,-n)\n",
    "    elif(mode==4):\n",
    "        weight = np.abs(E1-E2)*np.power(dist,-n)\n",
    "        \n",
    "    return weight"
   ]
  },
  {
   "cell_type": "code",
   "execution_count": 12,
   "metadata": {},
   "outputs": [],
   "source": [
    "def adjM(trackster,isDirected=False):\n",
    "    adj = np.zeros(len(trackster.nodes),len(trackster.nodes))\n",
    "    for edge in trackster.edges:\n",
    "        #cluster1=layerCluster(edge[0])\n",
    "        #cluster2=layerCluster(edge[1])\n",
    "        weight=calcWeight(wtMode,cluster1,cluster2,1)\n",
    "        adj[edge[0],edge[1]] = weight\n",
    "        if(not isDirected):\n",
    "            adj[edge[1],edge[0]] = weight\n",
    "    maxVal=adj.max()\n",
    "    return adj/maxVal"
   ]
  },
  {
   "cell_type": "code",
   "execution_count": 69,
   "metadata": {},
   "outputs": [],
   "source": [
    "def centralityEigen(adj):\n",
    "    rows,columns= adj.shape\n",
    "    eigvals,vecl= np.linalg.eig(adj)\n",
    "    print(eigvals)\n",
    "    i=np.argmax(np.abs(eigvals)) \n",
    "    c_eig= vecl[:,i]\n",
    "    if(c_eig[0]<0):\n",
    "        c_eig *=-1\n",
    "    print(vecl)\n",
    "    norm=np.linalg.norm(c_eig)\n",
    "    return c_eig/norm\n",
    "    "
   ]
  },
  {
   "cell_type": "code",
   "execution_count": 70,
   "metadata": {},
   "outputs": [],
   "source": [
    "def centralityKatz(adj):\n",
    "    rows,columns= adj.shape\n",
    "    Id=np.identity(rows)\n",
    "    eigvals,vecl= np.linalg.eig(adj)\n",
    "    print(eigvals)\n",
    "    i=np.argmax(np.abs(eigvals)) \n",
    "    alpha= 0.9/eigvals[i]\n",
    "    c_katz=(np.linalg.inv(Id-alpha*adj.T)-Id)@np.ones((rows)).T\n",
    "    print(vecl)\n",
    "    norm=np.linalg.norm(c_katz)\n",
    "    return c_katz/norm\n",
    "    "
   ]
  },
  {
   "cell_type": "code",
   "execution_count": 71,
   "metadata": {},
   "outputs": [],
   "source": [
    "def centralityPageRank(adj,df):\n",
    "    rows,columns= adj.shape\n",
    "    m_ones=np.ones((rows,columns))\n",
    "    m_pr=df*adj+(1-df)*m_ones/rows\n",
    "    eigvals,vecl= np.linalg.eig(m_pr)\n",
    "    print(eigvals)\n",
    "    i=np.argmax(np.abs(eigvals)) \n",
    "    c_pr= vecl[:,i]\n",
    "    if(c_pr[0]<0):\n",
    "        c_pr *=-1\n",
    "    print(vecl)\n",
    "    norm=np.linalg.norm(c_pr)\n",
    "    return c_pr/norm\n",
    "    "
   ]
  },
  {
   "cell_type": "markdown",
   "metadata": {},
   "source": [
    "## Testing"
   ]
  },
  {
   "cell_type": "code",
   "execution_count": 67,
   "metadata": {},
   "outputs": [
    {
     "name": "stdout",
     "output_type": "stream",
     "text": [
      "[[0 1 0 0]\n",
      " [1 0 1 1]\n",
      " [0 1 0 1]\n",
      " [0 1 1 0]]\n"
     ]
    }
   ],
   "source": [
    "adj=np.array([[0,1,0,0],[1,0,1,1],[0,1,0,1],[0,1,1,0]])\n",
    "print(adj)"
   ]
  },
  {
   "cell_type": "code",
   "execution_count": 72,
   "metadata": {},
   "outputs": [
    {
     "name": "stdout",
     "output_type": "stream",
     "text": [
      "Eigen:\n",
      "[-1.4811943   0.31110782  2.17008649 -1.        ]\n",
      "[[ 5.05936655e-01  8.15224745e-01  2.81845199e-01 -1.57009246e-16]\n",
      " [-7.49390492e-01  2.53622791e-01  6.11628457e-01  1.57009246e-16]\n",
      " [ 3.02028137e-01 -3.68160356e-01  5.22720726e-01 -7.07106781e-01]\n",
      " [ 3.02028137e-01 -3.68160356e-01  5.22720726e-01  7.07106781e-01]]\n",
      "[0.2818452  0.61162846 0.52272073 0.52272073]\n",
      "Katz:\n",
      "[-1.4811943   0.31110782  2.17008649 -1.        ]\n",
      "[[ 5.05936655e-01  8.15224745e-01 -2.81845199e-01 -1.57009246e-16]\n",
      " [-7.49390492e-01  2.53622791e-01 -6.11628457e-01  1.57009246e-16]\n",
      " [ 3.02028137e-01 -3.68160356e-01 -5.22720726e-01 -7.07106781e-01]\n",
      " [ 3.02028137e-01 -3.68160356e-01 -5.22720726e-01  7.07106781e-01]]\n",
      "[0.28015824 0.61821575 0.51928829 0.51928829]\n",
      "PageRank:\n",
      "[-1.25436321  0.26825896  1.98610425 -0.85      ]\n",
      "[[ 5.01340873e-01 -8.12532312e-01  2.97403045e-01 -9.99849633e-17]\n",
      " [-7.55015968e-01 -2.42930044e-01  6.09045057e-01  1.03780520e-16]\n",
      " [ 2.98837930e-01  3.74684024e-01  5.19911313e-01 -7.07106781e-01]\n",
      " [ 2.98837930e-01  3.74684024e-01  5.19911313e-01  7.07106781e-01]]\n",
      "[0.29740305 0.60904506 0.51991131 0.51991131]\n"
     ]
    }
   ],
   "source": [
    "print('Eigen:')\n",
    "print(centralityEigen(adj))\n",
    "print(\"Katz:\")\n",
    "print(centralityKatz(adj))\n",
    "print(\"PageRank:\")\n",
    "print(centralityPageRank(adj,0.85))"
   ]
  },
  {
   "cell_type": "code",
   "execution_count": null,
   "metadata": {},
   "outputs": [],
   "source": []
  }
 ],
 "metadata": {
  "kernelspec": {
   "display_name": "ticlenv",
   "language": "python",
   "name": "ticlenv"
  },
  "language_info": {
   "codemirror_mode": {
    "name": "ipython",
    "version": 3
   },
   "file_extension": ".py",
   "mimetype": "text/x-python",
   "name": "python",
   "nbconvert_exporter": "python",
   "pygments_lexer": "ipython3",
   "version": "3.6.5"
  }
 },
 "nbformat": 4,
 "nbformat_minor": 2
}
