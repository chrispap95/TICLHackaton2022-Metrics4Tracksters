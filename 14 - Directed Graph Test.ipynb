{
 "cells": [
  {
   "cell_type": "code",
   "execution_count": 1,
   "metadata": {},
   "outputs": [],
   "source": [
    "import numpy as np\n",
    "import awkward as ak\n",
    "import uproot\n",
    "import src.functions as fn\n",
    "import matplotlib as mpl\n",
    "import matplotlib.pyplot as plt\n",
    "from mpl_toolkits.mplot3d import Axes3D\n",
    "from pylab import cm\n",
    "import networkx as nx"
   ]
  },
  {
   "cell_type": "code",
   "execution_count": 2,
   "metadata": {},
   "outputs": [],
   "source": [
    "%matplotlib inline\n",
    "\n",
    "import mplhep as hep\n",
    "\n",
    "# Make plots look more HEP-like\n",
    "plt.style.use(hep.style.ROOT)"
   ]
  },
  {
   "cell_type": "code",
   "execution_count": 3,
   "metadata": {},
   "outputs": [],
   "source": [
    "filename = \"../tracksters_ds_10e.root\"\n",
    "file = uproot.open(filename)\n",
    "tracksters = file[\"tracksters\"]\n",
    "vertices_indexes = tracksters['vertices_indexes'].array()\n",
    "vertices_x = tracksters['vertices_x'].array()\n",
    "vertices_y = tracksters['vertices_y'].array()\n",
    "vertices_z = tracksters['vertices_z'].array()\n",
    "vertices_E = tracksters['vertices_energy'].array()"
   ]
  },
  {
   "cell_type": "code",
   "execution_count": 4,
   "metadata": {},
   "outputs": [],
   "source": [
    "vertices_indexes_00 = vertices_indexes[0,0]\n",
    "vertices_x_00 = vertices_x[0,0]\n",
    "vertices_y_00 = vertices_y[0,0]\n",
    "vertices_z_00 = vertices_z[0,0]\n",
    "vertices_E_00 = vertices_E[0,0]"
   ]
  },
  {
   "cell_type": "code",
   "execution_count": 5,
   "metadata": {},
   "outputs": [],
   "source": [
    "vertices_indexes_0 = vertices_indexes[0]\n",
    "vertices_x_0 = vertices_x[0]\n",
    "vertices_y_0 = vertices_y[0]\n",
    "vertices_z_0 = vertices_z[0]\n",
    "vertices_E_0 = vertices_E[0]"
   ]
  },
  {
   "cell_type": "code",
   "execution_count": 4,
   "metadata": {},
   "outputs": [],
   "source": [
    "edges = fn.edgeBuilderNNTr(\n",
    "    vertices_indexes, \n",
    "    vertices_x, \n",
    "    vertices_y, \n",
    "    vertices_z, \n",
    "    vertices_E\n",
    ")\n"
   ]
  },
  {
   "cell_type": "code",
   "execution_count": 7,
   "metadata": {},
   "outputs": [],
   "source": [
    "def plotEnergyCentrality(vertices_indexes,vertices_x,vertices_y,vertices_z,vertices_E,edges,tracksterN):\n",
    "    \n",
    "    fig = plt.figure(figsize=(10,8))\n",
    "    ax = fig.add_subplot(111,projection='3d')\n",
    "    fn.plotTrackster(fig,ax,\n",
    "                     vertices_x[tracksterN], \n",
    "                     vertices_y[tracksterN], \n",
    "                     vertices_z[tracksterN],\n",
    "                     vertices_E[tracksterN],\n",
    "                     vertices_indexes[tracksterN],\n",
    "                     ak.to_numpy(edges[tracksterN]),\n",
    "                     'Vertex Energy (GeV)')\n",
    "\n",
    "    c_pr_undir=fn.centralityPageRank(fn.adjM(vertices_indexes[tracksterN],edges[tracksterN]),0.85)\n",
    "    \n",
    "    fig = plt.figure(figsize=(10,8))\n",
    "    ax = fig.add_subplot(111,projection='3d')\n",
    "    fn.plotTrackster(fig,ax,vertices_x[tracksterN], vertices_y[tracksterN], vertices_z[tracksterN],\n",
    "                     c_pr_undir,vertices_indexes[tracksterN],edges[tracksterN],'PageRank Undirected Centrality')\n",
    "\n",
    "    c_pr_dir=fn.centralityPageRank(fn.adjM(vertices_indexes[tracksterN],edges[tracksterN]),0.85)\n",
    "\n",
    "    fig = plt.figure(figsize=(10,8))\n",
    "    ax = fig.add_subplot(111,projection='3d')\n",
    "    fn.plotTrackster(fig,ax,vertices_x[tracksterN], vertices_y[tracksterN], vertices_z[tracksterN],\n",
    "                     c_pr_dir,vertices_indexes[tracksterN],edges[tracksterN],'PageRank Directed Centrality')"
   ]
  },
  {
   "cell_type": "code",
   "execution_count": null,
   "metadata": {},
   "outputs": [],
   "source": [
    "c_pr_undir=fn.centralityPageRank(fn.adjM(vertices_indexes,ak.flatten(edges)),0.85)\n",
    "c_pr_dir=fn.centralityPageRank(fn.adjM(vertices_indexes,ak.flatten(edges),True),0.85)\n",
    "\n",
    "c_eig_undir=fn.centralityEigen(fn.adjM(vertices_indexes,ak.flatten(edges)))\n",
    "c_eig_dir=fn.centralityEigen(fn.adjM(vertices_indexes,ak.flatten(edges),True))\n",
    "    \n",
    "\n"
   ]
  },
  {
   "cell_type": "code",
   "execution_count": null,
   "metadata": {
    "scrolled": false
   },
   "outputs": [],
   "source": [
    "%matplotlib inline\n",
    "\n",
    "plotEnergyCentrality(vertices_indexes, vertices_x, vertices_y, vertices_z, vertices_E,\n",
    "                     edges,1)"
   ]
  },
  {
   "cell_type": "code",
   "execution_count": null,
   "metadata": {},
   "outputs": [],
   "source": [
    "print(len(edges[0]))\n",
    "print(edges[0])\n",
    "print(edges)"
   ]
  },
  {
   "cell_type": "code",
   "execution_count": null,
   "metadata": {},
   "outputs": [],
   "source": [
    "%matplotlib inline\n",
    "\n",
    "fig = plt.figure(figsize=(10,8))\n",
    "ax = fig.add_subplot(111,projection='3d')\n",
    "fn.plotTrackster(fig,ax,vertices_x_00, vertices_y_00, vertices_z_00,\n",
    "                 c_pr_dir,vertices_indexes_00,edges_00,'PageRank Directed Centrality')"
   ]
  },
  {
   "cell_type": "code",
   "execution_count": 7,
   "metadata": {},
   "outputs": [],
   "source": [
    "def nXCentralityEigen(nodes,edges,isDirected=False):\n",
    "    if(isDirected):\n",
    "        G=nx.DiGraph()\n",
    "    else:\n",
    "        G=nx.Graph()\n",
    "    G.add_edges_from(ak.to_numpy(edges))\n",
    "    G.add_nodes_from(ak.to_numpy(nodes))\n",
    "    centr_d = nx.eigenvector_centrality_numpy(G)\n",
    "    centr_np = np.array(list(centr_d.items()))\n",
    "    return centr_np[centr_np[:, 0].argsort()][:,1]\n",
    "\n",
    "def nXCentralityKatz(nodes,edges,isDirected=False):\n",
    "    if(isDirected):\n",
    "        G=nx.DiGraph()\n",
    "    else:\n",
    "        G=nx.Graph()\n",
    "    G.add_edges_from(ak.to_numpy(edges))\n",
    "    G.add_nodes_from(ak.to_numpy(nodes))\n",
    "    centr_d = nx.katz_centrality_numpy(G)\n",
    "    centr_np = np.array(list(centr_d.items()))\n",
    "    return centr_np[centr_np[:, 0].argsort()][:,1]"
   ]
  },
  {
   "cell_type": "code",
   "execution_count": 28,
   "metadata": {},
   "outputs": [
    {
     "name": "stdout",
     "output_type": "stream",
     "text": [
      "[0.26093751 0.37629798 0.26093751 0.28964063 0.26093751 0.28703126\n",
      " 0.28703126 0.26093751 0.34469845 0.26093751 0.28703126 0.26093751]\n",
      "[0.26595529 0.34861263 0.26595529 0.29487881 0.25974971 0.29198453\n",
      " 0.28655688 0.26622312 0.35129099 0.26029248 0.29225507 0.26031953]\n",
      "[-2.44804177e-14  9.99999853e-01  1.15671361e-14  2.94684445e-07\n",
      "  8.68194405e-14  1.55374408e-10  1.59947500e-10  5.33462163e-14\n",
      "  5.42774684e-04  8.43214387e-14 -8.00132183e-11 -4.33819647e-14]\n",
      "[0.21687356 0.5198105  0.21687356 0.29051961 0.06122872 0.26258093\n",
      " 0.14675523 0.22929089 0.54957282 0.10955312 0.27761529 0.1158257 ]\n",
      "[0.20814485 0.51726017 0.20814485 0.2969516  0.07710839 0.26459334\n",
      " 0.16829019 0.2198432  0.54841466 0.11326974 0.27821186 0.11838342]\n",
      "[1. 0. 0. 0. 0. 0. 0. 0. 0. 0. 0. 0.]\n",
      "[0.21687356 0.5198105  0.21687356 0.29051961 0.06122872 0.26258093\n",
      " 0.14675523 0.22929089 0.54957282 0.10955312 0.27761529 0.1158257 ]\n",
      "[0.14040227 0.05972926 0.14040227 0.24936282 0.59530009 0.14040227\n",
      " 0.3965298  0.24936282 0.14040227 0.24936282 0.24936282 0.3965298 ]\n",
      "[0.21842145 0.50799618 0.21842145 0.29632982 0.08415435 0.26711347\n",
      " 0.16805747 0.22995142 0.53718789 0.12327894 0.28077466 0.12867476]\n"
     ]
    }
   ],
   "source": [
    "n=19\n",
    "print(fn.nXCentralityKatz(vertices_indexes[n],edges[n],True))\n",
    "print(fn.nXCentralityKatz(vertices_indexes[n],edges[n],False))\n",
    "print(fn.nXCentralityEigen(vertices_indexes[n],edges[n],True))\n",
    "print(fn.nXCentralityEigen(vertices_indexes[n],edges[n],False))\n",
    "print(fn.centralityKatz(vertices_indexes[n],edges[n]))\n",
    "#print(fn.centralityKatz(vertices_indexes[n],edges[n],True))\n",
    "print(fn.centralityEigen(vertices_indexes[n],edges[n],True))\n",
    "print(fn.centralityEigen(vertices_indexes[n],edges[n],False))\n",
    "print(fn.centralityPageRank(vertices_indexes[n],edges[n],0.85,True))\n",
    "print(fn.centralityPageRank(vertices_indexes[n],edges[n],0.85))"
   ]
  },
  {
   "cell_type": "code",
   "execution_count": 21,
   "metadata": {},
   "outputs": [],
   "source": [
    "n=14\n",
    "c_nxkatz_dir=fn.nXCentralityKatz(vertices_indexes[n],edges[n],True)\n",
    "c_nxkatz_undir=fn.nXCentralityKatz(vertices_indexes[n],edges[n],False)\n",
    "c_nxeig_dir=fn.nXCentralityEigen(vertices_indexes[n],edges[n],True)\n",
    "c_nxeig_undir=fn.nXCentralityEigen(vertices_indexes[n],edges[n],False)\n",
    "c_katz=fn.centralityKatz(vertices_indexes[n],edges[n])\n",
    "#print(fn.centralityKatz(vertices_indexes[n],edges[n],True))\n",
    "c_eig_dir=fn.centralityEigen(vertices_indexes[n],edges[n],True)\n",
    "c_eig_undir=fn.centralityEigen(vertices_indexes[n],edges[n],False)\n",
    "c_pr_dir=fn.centralityPageRank(vertices_indexes[n],edges[n],0.85,True)\n",
    "c_pr_undir=fn.centralityPageRank(vertices_indexes[n],edges[n],0.85)"
   ]
  },
  {
   "cell_type": "code",
   "execution_count": 22,
   "metadata": {},
   "outputs": [
    {
     "name": "stdout",
     "output_type": "stream",
     "text": [
      "0\n",
      "4\n",
      "0\n",
      "4\n",
      "5\n",
      "4\n",
      "5\n",
      "4\n",
      "4\n"
     ]
    }
   ],
   "source": [
    "print(fn.longestPathSource(vertices_indexes[n], edges[n], c_nxkatz_dir,True))\n",
    "print(fn.longestPathSource(vertices_indexes[n], edges[n], c_nxkatz_undir))\n",
    "print(fn.longestPathSource(vertices_indexes[n], edges[n], c_nxeig_dir,True))\n",
    "print(fn.longestPathSource(vertices_indexes[n], edges[n], c_nxeig_undir))\n",
    "print(fn.longestPathSource(vertices_indexes[n], edges[n], c_katz))\n",
    "print(fn.longestPathSource(vertices_indexes[n], edges[n], c_eig_dir,True))\n",
    "print(fn.longestPathSource(vertices_indexes[n], edges[n], c_eig_undir))\n",
    "print(fn.longestPathSource(vertices_indexes[n], edges[n], c_pr_dir,True))\n",
    "print(fn.longestPathSource(vertices_indexes[n], edges[n], c_pr_undir))"
   ]
  },
  {
   "cell_type": "code",
   "execution_count": 10,
   "metadata": {},
   "outputs": [],
   "source": [
    "\n",
    "def longestPathSource(nodes,edges,centralities,isDirected=False):\n",
    "    \"\"\"\n",
    "    Finds the longest path in the network from the max\n",
    "    of the stortest path algorithm.\n",
    "    \"\"\"\n",
    "    if(isDirected):\n",
    "        G=nx.DiGraph()\n",
    "    else:\n",
    "        G=nx.Graph()\n",
    "    G.add_edges_from(ak.to_numpy(edges))\n",
    "    G.add_nodes_from(ak.to_numpy(nodes))\n",
    "    \n",
    "    #Highest centrality node\n",
    "    i_centralityMax=np.argmax(centralities)\n",
    "    source=nodes[i_centralityMax]\n",
    "    #Finds the shortest path from the highest centrality to all other nodes\n",
    "    pathList=nx.shortest_path_length(G,source=source)\n",
    "    print(pathList)\n",
    "    #Takes the max of all paths to find the longest path\n",
    "    longestShortestPath=max(pathList.values())\n",
    "    return longestShortestPath"
   ]
  },
  {
   "cell_type": "code",
   "execution_count": 11,
   "metadata": {},
   "outputs": [
    {
     "name": "stdout",
     "output_type": "stream",
     "text": [
      "{237: 0}\n",
      "0\n"
     ]
    }
   ],
   "source": [
    "print(longestPathSource(vertices_indexes[n], edges[n], c_nxkatz_dir,True))"
   ]
  },
  {
   "cell_type": "code",
   "execution_count": 12,
   "metadata": {},
   "outputs": [
    {
     "data": {
      "text/plain": [
       "array([0.25097622, 0.33485248, 0.25097622, 0.25097622, 0.30644197,\n",
       "       0.30368123, 0.27607384, 0.25097622, 0.25097622, 0.28134435,\n",
       "       0.27607384, 0.30368123, 0.25097622])"
      ]
     },
     "execution_count": 12,
     "metadata": {},
     "output_type": "execute_result"
    }
   ],
   "source": [
    "c_nxkatz_dir"
   ]
  },
  {
   "cell_type": "code",
   "execution_count": 14,
   "metadata": {},
   "outputs": [
    {
     "name": "stdout",
     "output_type": "stream",
     "text": [
      "[222, 237, 253, 255, 258, 270, 273, 288, 306, 310, 328, 330, 345]\n"
     ]
    }
   ],
   "source": [
    "print(vertices_indexes[n])"
   ]
  },
  {
   "cell_type": "code",
   "execution_count": 17,
   "metadata": {},
   "outputs": [
    {
     "name": "stdout",
     "output_type": "stream",
     "text": [
      "[(222, 258) (253, 270) (255, 237) (258, 237) (270, 258) (273, 270)\n",
      " (288, 273) (306, 328) (310, 237) (328, 330) (330, 310) (345, 330)]\n"
     ]
    }
   ],
   "source": [
    "print(ak.to_numpy(edges[n]))"
   ]
  },
  {
   "cell_type": "code",
   "execution_count": 3,
   "metadata": {},
   "outputs": [],
   "source": [
    "filename2 = \"/afs/cern.ch/user/d/dmagdali/CernCentralityProject/tracksters_ds_10e.root\"\n",
    "file2 = uproot.open(filename2)\n",
    "tracksters10e=file2['tracksters']"
   ]
  },
  {
   "cell_type": "code",
   "execution_count": 26,
   "metadata": {},
   "outputs": [
    {
     "name": "stdout",
     "output_type": "stream",
     "text": [
      "['nvertices_x', 'vertices_x', 'nvertices_y', 'vertices_y', 'nvertices_z', 'vertices_z', 'nvertices_energy', 'vertices_energy', 'nvertices_indexes', 'vertices_indexes', 'trackster_label', 'trackster_event']\n"
     ]
    }
   ],
   "source": [
    "print(tracksters10e.keys())\n",
    "vertices10e_Labels=tracksters10e['trackster_label'].array()\n",
    "vertices10e_indexes=tracksters10e['vertices_indexes'].array()\n",
    "vertices10e_x = tracksters10e['vertices_x'].array()\n",
    "vertices10e_y = tracksters10e['vertices_y'].array()\n",
    "vertices10e_z = tracksters10e['vertices_z'].array()\n",
    "vertices10e_E = tracksters10e['vertices_energy'].array()\n",
    "\n",
    "edges10e = fn.edgeBuilderNNTr(vertices10e_indexes, vertices10e_x, vertices10e_y, vertices10e_z, vertices10e_E)"
   ]
  },
  {
   "cell_type": "code",
   "execution_count": 5,
   "metadata": {},
   "outputs": [
    {
     "name": "stdout",
     "output_type": "stream",
     "text": [
      "2358\n",
      "2441\n"
     ]
    }
   ],
   "source": [
    "tooSmall = ak.num(vertices10e_indexes,axis=-1) > 2\n",
    "print(ak.sum(tooSmall))\n",
    "print(len(vertices10e_indexes))"
   ]
  },
  {
   "cell_type": "code",
   "execution_count": 6,
   "metadata": {},
   "outputs": [
    {
     "name": "stdout",
     "output_type": "stream",
     "text": [
      "2358\n"
     ]
    }
   ],
   "source": [
    "vertices10e_indexes_g = vertices10e_indexes[tooSmall]\n",
    "vertices10e_x_g = vertices10e_x[tooSmall]\n",
    "vertices10e_y_g = vertices10e_y[tooSmall]\n",
    "vertices10e_z_g = vertices10e_z[tooSmall]\n",
    "vertices10e_E_g = vertices10e_E[tooSmall]\n",
    "print(len(vertices10e_indexes_g))"
   ]
  },
  {
   "cell_type": "code",
   "execution_count": 19,
   "metadata": {},
   "outputs": [],
   "source": [
    "longestComPaths=[]\n",
    "longestInComPaths=[]\n",
    "\n",
    "N_tr = len(vertices10e_indexes_g)\n",
    "#N_tr=1000\n",
    "\n",
    "for i in range(N_tr):\n",
    "    v_ind=vertices10e_indexes_g[i]\n",
    "    v_x=vertices10e_x_g[i] \n",
    "    v_y=vertices10e_y_g[i]\n",
    "    v_z=vertices10e_z_g[i]\n",
    "    v_E=vertices10e_E_g[i] \n",
    "    edges_1 = fn.edgeBuilderNew(\n",
    "        v_ind,\n",
    "        v_x, \n",
    "        v_y, \n",
    "        v_z, \n",
    "        v_E\n",
    "    )\n",
    "    edges_1 = ak.flatten(edges_1[ak.num(edges_1) > 0].to_list())\n",
    "\n",
    "    #c_nxkatz_dir=fn.nXCentralityKatz(v_ind,edges_1,True)\n",
    "    #c_nxkatz_undir=fn.nXCentralityKatz(v_ind,edges_1,False)\n",
    "    c_nxeig_undir=fn.nXCentralityEigen(v_ind,edges_1,False)\n",
    "    #c_katz=fn.centralityKatz(v_ind,edges_1,False)\n",
    "    #c_eig_undir=fn.centralityEigen(v_ind,edges_1,False)\n",
    "    #c_pr_dir=fn.centralityPageRank(v_ind,edges_1,0.85,True)\n",
    "    #c_pr_undir=fn.centralityPageRank(v_ind,edges_1,0.85,False)\n",
    "    longestComCentralitiesPaths=[]\n",
    "    longestInComCentralitiesPaths=[]\n",
    "    \n",
    "    #cList=[c_nxkatz_dir,c_nxkatz_undir,c_nxeig_undir,c_katz,c_eig_undir,c_pr_dir,c_pr_undir]\n",
    "    cList=[c_nxeig_undir]\n",
    "    for j in cList:\n",
    "        longestPath=fn.longestPathSource(v_ind,edges_1,j)\n",
    "        if(vertices10e_Labels[i]==1):\n",
    "            longestComCentralitiesPaths.append(longestPath)\n",
    "        else:\n",
    "            longestInComCentralitiesPaths.append(longestPath)\n",
    "    if(vertices10e_Labels[i]==1):\n",
    "        longestComPaths.append(longestComCentralitiesPaths)\n",
    "    else:\n",
    "        longestInComPaths.append(longestInComCentralitiesPaths)\n",
    "\n"
   ]
  },
  {
   "cell_type": "code",
   "execution_count": 20,
   "metadata": {},
   "outputs": [],
   "source": [
    "longestComPaths=np.asarray(longestComPaths)\n",
    "longestInComPaths=np.asarray(longestInComPaths)"
   ]
  },
  {
   "cell_type": "code",
   "execution_count": 23,
   "metadata": {},
   "outputs": [
    {
     "name": "stdout",
     "output_type": "stream",
     "text": [
      "1625\n"
     ]
    }
   ],
   "source": [
    "print(len(longestComPaths))"
   ]
  },
  {
   "cell_type": "code",
   "execution_count": 22,
   "metadata": {},
   "outputs": [
    {
     "data": {
      "image/png": "[encoded data removed]",
      "text/plain": [
       "<Figure size 576x432 with 1 Axes>"
      ]
     },
     "metadata": {
      "needs_background": "light"
     },
     "output_type": "display_data"
    }
   ],
   "source": [
    "%matplotlib inline\n",
    "\n",
    "plt.figure(figsize=(8,6))\n",
    "n, bins, patches = plt.hist(longestComPaths, bins=20, color='b', alpha=0.7,label='Complete')\n",
    "plt.hist(longestInComPaths, bins=20, color='r', alpha=0.7,label='Incomplete')\n",
    "plt.legend()\n",
    "plt.ylabel(\"N\")\n",
    "plt.xlabel(\"Longest path in the network\")\n",
    "plt.title(\"10e dataset nxKatz Directed centrality\")\n",
    "plt.show()"
   ]
  },
  {
   "cell_type": "code",
   "execution_count": 12,
   "metadata": {},
   "outputs": [
    {
     "data": {
      "image/png": "[encoded data removed]",
      "text/plain": [
       "<Figure size 576x432 with 1 Axes>"
      ]
     },
     "metadata": {
      "needs_background": "light"
     },
     "output_type": "display_data"
    }
   ],
   "source": [
    "%matplotlib inline\n",
    "\n",
    "plt.figure(figsize=(8,6))\n",
    "n, bins, patches = plt.hist(longestComPaths[:,1], bins=20, color='b', alpha=0.7,label='Complete')\n",
    "plt.hist(longestInComPaths[:,1], bins=20, color='r', alpha=0.7,label='Incomplete')\n",
    "plt.legend()\n",
    "plt.ylabel(\"N\")\n",
    "plt.xlabel(\"Longest path in the network\")\n",
    "plt.title(\"10e dataset nxKatz Undirected centrality\")\n",
    "plt.show()"
   ]
  },
  {
   "cell_type": "code",
   "execution_count": 13,
   "metadata": {},
   "outputs": [
    {
     "data": {
      "image/png": "[encoded data removed]",
      "text/plain": [
       "<Figure size 576x432 with 1 Axes>"
      ]
     },
     "metadata": {
      "needs_background": "light"
     },
     "output_type": "display_data"
    }
   ],
   "source": [
    "%matplotlib inline\n",
    "\n",
    "plt.figure(figsize=(8,6))\n",
    "n, bins, patches = plt.hist(longestComPaths[:,2], bins=20, color='b', alpha=0.7,label='Complete')\n",
    "plt.hist(longestInComPaths[:,2], bins=20, color='r', alpha=0.7,label='Incomplete')\n",
    "plt.legend()\n",
    "plt.ylabel(\"N\")\n",
    "plt.xlabel(\"Longest path in the network\")\n",
    "plt.title(\"10e dataset  nxEigen Undirected centrality\")\n",
    "plt.show()"
   ]
  },
  {
   "cell_type": "code",
   "execution_count": null,
   "metadata": {},
   "outputs": [],
   "source": [
    "%matplotlib inline\n",
    "\n",
    "plt.figure(figsize=(8,6))\n",
    "n, bins, patches = plt.hist(longestComPaths[:,5], bins=20, color='b', alpha=0.7,label='Complete')\n",
    "plt.hist(longestInComPaths[:,5], bins=20, color='r', alpha=0.7,label='Incomplete')\n",
    "plt.legend()\n",
    "plt.ylabel(\"N\")\n",
    "plt.xlabel(\"Longest path in the network\")\n",
    "plt.title(\"10e dataset PageRank Directed centrality\")\n",
    "plt.show()"
   ]
  },
  {
   "cell_type": "code",
   "execution_count": null,
   "metadata": {},
   "outputs": [],
   "source": [
    "%matplotlib inline\n",
    "\n",
    "plt.figure(figsize=(8,6))\n",
    "n, bins, patches = plt.hist(longestComPaths[:,6], bins=20, color='b', alpha=0.7,label='Complete')\n",
    "plt.hist(longestInComPaths[:,6], bins=20, color='r', alpha=0.7,label='Incomplete')\n",
    "plt.legend()\n",
    "plt.ylabel(\"N\")\n",
    "plt.xlabel(\"Longest path in the network\")\n",
    "plt.title(\"10e dataset PageRank Undirected centrality\")\n",
    "plt.show()"
   ]
  },
  {
   "cell_type": "code",
   "execution_count": null,
   "metadata": {},
   "outputs": [],
   "source": [
    "%matplotlib inline\n",
    "\n",
    "plt.figure(figsize=(8,6))\n",
    "n, bins, patches = plt.hist(longestComPaths[:,3], bins=20, color='b', alpha=0.7,label='Complete')\n",
    "plt.hist(longestInComPaths[:,3], bins=20, color='r', alpha=0.7,label='Incomplete')\n",
    "plt.legend()\n",
    "plt.ylabel(\"N\")\n",
    "plt.xlabel(\"Longest path in the network\")\n",
    "plt.title(\"10e dataset Katz Undirected centrality\")\n",
    "plt.show()"
   ]
  },
  {
   "cell_type": "code",
   "execution_count": null,
   "metadata": {},
   "outputs": [],
   "source": [
    "%matplotlib inline\n",
    "\n",
    "plt.figure(figsize=(8,6))\n",
    "n, bins, patches = plt.hist(longestComPaths[:,4], bins=20, color='b', alpha=0.7,label='Complete')\n",
    "plt.hist(longestInComPaths[:,4], bins=20, color='r', alpha=0.7,label='Incomplete')\n",
    "plt.legend()\n",
    "plt.ylabel(\"N\")\n",
    "plt.xlabel(\"Longest path in the network\")\n",
    "plt.title(\"10e dataset Eigen Undirected centrality\")\n",
    "plt.show()"
   ]
  },
  {
   "cell_type": "code",
   "execution_count": 40,
   "metadata": {},
   "outputs": [
    {
     "data": {
      "text/plain": [
       "array([[15, 14, 14, ..., 14, 20, 14],\n",
       "       [15, 15, 15, ..., 15, 19, 15],\n",
       "       [20, 20, 18, ..., 18, 22, 18],\n",
       "       ...,\n",
       "       [16, 16, 16, ..., 16, 17, 16],\n",
       "       [12, 12, 12, ..., 12, 16, 12],\n",
       "       [13, 15, 16, ..., 15, 21, 15]])"
      ]
     },
     "execution_count": 40,
     "metadata": {},
     "output_type": "execute_result"
    }
   ],
   "source": [
    "longestComPaths"
   ]
  },
  {
   "cell_type": "code",
   "execution_count": 41,
   "metadata": {},
   "outputs": [
    {
     "name": "stdout",
     "output_type": "stream",
     "text": [
      "[15 15 20 ... 16 12 13]\n"
     ]
    }
   ],
   "source": [
    "print(longestComPaths[:,0])"
   ]
  },
  {
   "cell_type": "code",
   "execution_count": 27,
   "metadata": {},
   "outputs": [],
   "source": [
    "longestComPaths=[]\n",
    "longestInComPaths=[]\n",
    "\n",
    "for i in range(len(vertices10e_indexes)):\n",
    "    centralities=fn.centralityEigen(vertices10e_indexes[i],edges10e[i])\n",
    "    longestPath=fn.longestPathSource(vertices10e_indexes[i],edges10e[i],centralities)\n",
    "    if(vertices10e_Labels[i]==1):\n",
    "        longestComPaths.append(longestPath)\n",
    "    else:\n",
    "        longestInComPaths.append(longestPath)\n",
    "\n"
   ]
  },
  {
   "cell_type": "code",
   "execution_count": 28,
   "metadata": {},
   "outputs": [
    {
     "data": {
      "image/png": "[encoded data removed]",
      "text/plain": [
       "<Figure size 576x432 with 1 Axes>"
      ]
     },
     "metadata": {
      "needs_background": "light"
     },
     "output_type": "display_data"
    }
   ],
   "source": [
    "%matplotlib inline\n",
    "plt.figure(figsize=(8,6))\n",
    "n, bins, patches = plt.hist(longestComPaths, bins=20, color='b', alpha=0.7,label='Complete')\n",
    "plt.hist(longestInComPaths, bins=10, color='r', alpha=0.7,label='Incomplete')\n",
    "plt.legend()\n",
    "plt.ylabel(\"N\")\n",
    "plt.xlabel(\"Longest path in the network\")\n",
    "plt.title(\"10e dataset Eigen centrality\")\n",
    "plt.show()"
   ]
  },
  {
   "cell_type": "code",
   "execution_count": null,
   "metadata": {},
   "outputs": [],
   "source": []
  }
 ],
 "metadata": {
  "kernelspec": {
   "display_name": "ticlenv",
   "language": "python",
   "name": "ticlenv"
  },
  "language_info": {
   "codemirror_mode": {
    "name": "ipython",
    "version": 3
   },
   "file_extension": ".py",
   "mimetype": "text/x-python",
   "name": "python",
   "nbconvert_exporter": "python",
   "pygments_lexer": "ipython3",
   "version": "3.6.5"
  }
 },
 "nbformat": 4,
 "nbformat_minor": 2
}
