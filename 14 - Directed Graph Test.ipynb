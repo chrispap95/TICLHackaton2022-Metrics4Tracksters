{
 "cells": [
  {
   "cell_type": "markdown",
   "metadata": {},
   "source": [
    "# Directed graph testing and longest path"
   ]
  },
  {
   "cell_type": "markdown",
   "metadata": {},
   "source": [
    "Notebook to test directed graphs and computing longest path values for all of them.\n",
    "\n",
    "The initial part here was mainly used for testing."
   ]
  },
  {
   "cell_type": "code",
   "execution_count": 4,
   "metadata": {},
   "outputs": [],
   "source": [
    "import numpy as np\n",
    "import awkward as ak\n",
    "import uproot\n",
    "import src.functions as fn\n",
    "import matplotlib as mpl\n",
    "import matplotlib.pyplot as plt\n",
    "from mpl_toolkits.mplot3d import Axes3D\n",
    "from pylab import cm\n",
    "import networkx as nx"
   ]
  },
  {
   "cell_type": "code",
   "execution_count": 5,
   "metadata": {},
   "outputs": [],
   "source": [
    "%matplotlib inline\n",
    "\n",
    "import mplhep as hep\n",
    "\n",
    "# Make plots look more HEP-like\n",
    "plt.style.use(hep.style.ROOT)"
   ]
  },
  {
   "cell_type": "code",
   "execution_count": 3,
   "metadata": {},
   "outputs": [],
   "source": [
    "filename =  \"/afs/cern.ch/user/d/dmagdali/CernCentralityProject/tracksters_ds_10e.root\"\n",
    "file = uproot.open(filename)\n",
    "tracksters = file[\"tracksters\"]\n",
    "vertices_indexes = tracksters['vertices_indexes'].array()\n",
    "vertices_x = tracksters['vertices_x'].array()\n",
    "vertices_y = tracksters['vertices_y'].array()\n",
    "vertices_z = tracksters['vertices_z'].array()\n",
    "vertices_E = tracksters['vertices_energy'].array()"
   ]
  },
  {
   "cell_type": "code",
   "execution_count": 4,
   "metadata": {},
   "outputs": [],
   "source": [
    "vertices_indexes_00 = vertices_indexes[0,0]\n",
    "vertices_x_00 = vertices_x[0,0]\n",
    "vertices_y_00 = vertices_y[0,0]\n",
    "vertices_z_00 = vertices_z[0,0]\n",
    "vertices_E_00 = vertices_E[0,0]"
   ]
  },
  {
   "cell_type": "code",
   "execution_count": 5,
   "metadata": {},
   "outputs": [],
   "source": [
    "vertices_indexes_0 = vertices_indexes[0]\n",
    "vertices_x_0 = vertices_x[0]\n",
    "vertices_y_0 = vertices_y[0]\n",
    "vertices_z_0 = vertices_z[0]\n",
    "vertices_E_0 = vertices_E[0]"
   ]
  },
  {
   "cell_type": "code",
   "execution_count": 4,
   "metadata": {},
   "outputs": [],
   "source": [
    "edges = fn.edgeBuilderNNTr(\n",
    "    vertices_indexes, \n",
    "    vertices_x, \n",
    "    vertices_y, \n",
    "    vertices_z, \n",
    "    vertices_E\n",
    ")\n"
   ]
  },
  {
   "cell_type": "code",
   "execution_count": 28,
   "metadata": {},
   "outputs": [
    {
     "name": "stdout",
     "output_type": "stream",
     "text": [
      "[0.26093751 0.37629798 0.26093751 0.28964063 0.26093751 0.28703126\n",
      " 0.28703126 0.26093751 0.34469845 0.26093751 0.28703126 0.26093751]\n",
      "[0.26595529 0.34861263 0.26595529 0.29487881 0.25974971 0.29198453\n",
      " 0.28655688 0.26622312 0.35129099 0.26029248 0.29225507 0.26031953]\n",
      "[-2.44804177e-14  9.99999853e-01  1.15671361e-14  2.94684445e-07\n",
      "  8.68194405e-14  1.55374408e-10  1.59947500e-10  5.33462163e-14\n",
      "  5.42774684e-04  8.43214387e-14 -8.00132183e-11 -4.33819647e-14]\n",
      "[0.21687356 0.5198105  0.21687356 0.29051961 0.06122872 0.26258093\n",
      " 0.14675523 0.22929089 0.54957282 0.10955312 0.27761529 0.1158257 ]\n",
      "[0.20814485 0.51726017 0.20814485 0.2969516  0.07710839 0.26459334\n",
      " 0.16829019 0.2198432  0.54841466 0.11326974 0.27821186 0.11838342]\n",
      "[1. 0. 0. 0. 0. 0. 0. 0. 0. 0. 0. 0.]\n",
      "[0.21687356 0.5198105  0.21687356 0.29051961 0.06122872 0.26258093\n",
      " 0.14675523 0.22929089 0.54957282 0.10955312 0.27761529 0.1158257 ]\n",
      "[0.14040227 0.05972926 0.14040227 0.24936282 0.59530009 0.14040227\n",
      " 0.3965298  0.24936282 0.14040227 0.24936282 0.24936282 0.3965298 ]\n",
      "[0.21842145 0.50799618 0.21842145 0.29632982 0.08415435 0.26711347\n",
      " 0.16805747 0.22995142 0.53718789 0.12327894 0.28077466 0.12867476]\n"
     ]
    }
   ],
   "source": [
    "n=19\n",
    "print(fn.nXCentralityKatz(vertices_indexes[n],edges[n],True))\n",
    "print(fn.nXCentralityKatz(vertices_indexes[n],edges[n],False))\n",
    "print(fn.nXCentralityEigen(vertices_indexes[n],edges[n],True))\n",
    "print(fn.nXCentralityEigen(vertices_indexes[n],edges[n],False))\n",
    "print(fn.centralityKatz(vertices_indexes[n],edges[n]))\n",
    "#print(fn.centralityKatz(vertices_indexes[n],edges[n],True))\n",
    "print(fn.centralityEigen(vertices_indexes[n],edges[n],True))\n",
    "print(fn.centralityEigen(vertices_indexes[n],edges[n],False))\n",
    "print(fn.centralityPageRank(vertices_indexes[n],edges[n],0.85,True))\n",
    "print(fn.centralityPageRank(vertices_indexes[n],edges[n],0.85))"
   ]
  },
  {
   "cell_type": "code",
   "execution_count": 21,
   "metadata": {},
   "outputs": [],
   "source": [
    "n=14\n",
    "c_nxkatz_dir=fn.nXCentralityKatz(vertices_indexes[n],edges[n],True)\n",
    "c_nxkatz_undir=fn.nXCentralityKatz(vertices_indexes[n],edges[n],False)\n",
    "c_nxeig_dir=fn.nXCentralityEigen(vertices_indexes[n],edges[n],True)\n",
    "c_nxeig_undir=fn.nXCentralityEigen(vertices_indexes[n],edges[n],False)\n",
    "c_katz=fn.centralityKatz(vertices_indexes[n],edges[n])\n",
    "#print(fn.centralityKatz(vertices_indexes[n],edges[n],True))\n",
    "c_eig_dir=fn.centralityEigen(vertices_indexes[n],edges[n],True)\n",
    "c_eig_undir=fn.centralityEigen(vertices_indexes[n],edges[n],False)\n",
    "c_pr_dir=fn.centralityPageRank(vertices_indexes[n],edges[n],0.85,True)\n",
    "c_pr_undir=fn.centralityPageRank(vertices_indexes[n],edges[n],0.85)"
   ]
  },
  {
   "cell_type": "code",
   "execution_count": 22,
   "metadata": {},
   "outputs": [
    {
     "name": "stdout",
     "output_type": "stream",
     "text": [
      "0\n",
      "4\n",
      "0\n",
      "4\n",
      "5\n",
      "4\n",
      "5\n",
      "4\n",
      "4\n"
     ]
    }
   ],
   "source": [
    "print(fn.longestPathSource(vertices_indexes[n], edges[n], c_nxkatz_dir,True))\n",
    "print(fn.longestPathSource(vertices_indexes[n], edges[n], c_nxkatz_undir))\n",
    "print(fn.longestPathSource(vertices_indexes[n], edges[n], c_nxeig_dir,True))\n",
    "print(fn.longestPathSource(vertices_indexes[n], edges[n], c_nxeig_undir))\n",
    "print(fn.longestPathSource(vertices_indexes[n], edges[n], c_katz))\n",
    "print(fn.longestPathSource(vertices_indexes[n], edges[n], c_eig_dir,True))\n",
    "print(fn.longestPathSource(vertices_indexes[n], edges[n], c_eig_undir))\n",
    "print(fn.longestPathSource(vertices_indexes[n], edges[n], c_pr_dir,True))\n",
    "print(fn.longestPathSource(vertices_indexes[n], edges[n], c_pr_undir))"
   ]
  },
  {
   "cell_type": "markdown",
   "metadata": {},
   "source": [
    "Here I computed the longest path for all centralities and plotted them for incomplete and complete."
   ]
  },
  {
   "cell_type": "code",
   "execution_count": 6,
   "metadata": {},
   "outputs": [],
   "source": [
    "filename2 = \"/afs/cern.ch/user/d/dmagdali/CernCentralityProject/tracksters_ds_100e.root\"\n",
    "file2 = uproot.open(filename2)\n",
    "tracksters10e=file2['tracksters']"
   ]
  },
  {
   "cell_type": "code",
   "execution_count": 7,
   "metadata": {},
   "outputs": [
    {
     "name": "stdout",
     "output_type": "stream",
     "text": [
      "['nvertices_x', 'vertices_x', 'nvertices_y', 'vertices_y', 'nvertices_z', 'vertices_z', 'nvertices_energy', 'vertices_energy', 'nvertices_indexes', 'vertices_indexes', 'trackster_label', 'trackster_event']\n"
     ]
    }
   ],
   "source": [
    "print(tracksters10e.keys())\n",
    "vertices10e_Labels=tracksters10e['trackster_label'].array()\n",
    "vertices10e_indexes=tracksters10e['vertices_indexes'].array()\n",
    "vertices10e_x = tracksters10e['vertices_x'].array()\n",
    "vertices10e_y = tracksters10e['vertices_y'].array()\n",
    "vertices10e_z = tracksters10e['vertices_z'].array()\n",
    "vertices10e_E = tracksters10e['vertices_energy'].array()\n",
    "\n"
   ]
  },
  {
   "cell_type": "code",
   "execution_count": null,
   "metadata": {},
   "outputs": [],
   "source": [
    "#edges10e = fn.edgeBuilderNNTr(vertices10e_indexes, vertices10e_x, vertices10e_y, vertices10e_z, vertices10e_E)"
   ]
  },
  {
   "cell_type": "code",
   "execution_count": 8,
   "metadata": {},
   "outputs": [
    {
     "name": "stdout",
     "output_type": "stream",
     "text": [
      "46769\n",
      "48249\n"
     ]
    }
   ],
   "source": [
    "tooSmall = ak.num(vertices10e_indexes,axis=-1) > 2\n",
    "print(ak.sum(tooSmall))\n",
    "print(len(vertices10e_indexes))"
   ]
  },
  {
   "cell_type": "code",
   "execution_count": 9,
   "metadata": {},
   "outputs": [
    {
     "name": "stdout",
     "output_type": "stream",
     "text": [
      "46769\n"
     ]
    }
   ],
   "source": [
    "vertices10e_indexes_g = vertices10e_indexes[tooSmall]\n",
    "vertices10e_x_g = vertices10e_x[tooSmall]\n",
    "vertices10e_y_g = vertices10e_y[tooSmall]\n",
    "vertices10e_z_g = vertices10e_z[tooSmall]\n",
    "vertices10e_E_g = vertices10e_E[tooSmall]\n",
    "vertices10e_Labels_g=vertices10e_Labels[tooSmall]\n",
    "print(len(vertices10e_indexes_g))"
   ]
  },
  {
   "cell_type": "markdown",
   "metadata": {},
   "source": [
    "Loop is quite slow for a lot of events. The katz centrality especially takes a lot of time."
   ]
  },
  {
   "cell_type": "code",
   "execution_count": 10,
   "metadata": {},
   "outputs": [
    {
     "ename": "KeyboardInterrupt",
     "evalue": "",
     "output_type": "error",
     "traceback": [
      "\u001b[0;31m---------------------------------------------------------------------------\u001b[0m",
      "\u001b[0;31mKeyboardInterrupt\u001b[0m                         Traceback (most recent call last)",
      "\u001b[0;32m<ipython-input-10-b4931da63b5d>\u001b[0m in \u001b[0;36m<module>\u001b[0;34m\u001b[0m\n\u001b[1;32m     20\u001b[0m     \u001b[0medges_1\u001b[0m \u001b[0;34m=\u001b[0m \u001b[0mak\u001b[0m\u001b[0;34m.\u001b[0m\u001b[0mflatten\u001b[0m\u001b[0;34m(\u001b[0m\u001b[0medges_1\u001b[0m\u001b[0;34m[\u001b[0m\u001b[0mak\u001b[0m\u001b[0;34m.\u001b[0m\u001b[0mnum\u001b[0m\u001b[0;34m(\u001b[0m\u001b[0medges_1\u001b[0m\u001b[0;34m)\u001b[0m \u001b[0;34m>\u001b[0m \u001b[0;36m0\u001b[0m\u001b[0;34m]\u001b[0m\u001b[0;34m.\u001b[0m\u001b[0mto_list\u001b[0m\u001b[0;34m(\u001b[0m\u001b[0;34m)\u001b[0m\u001b[0;34m)\u001b[0m\u001b[0;34m\u001b[0m\u001b[0m\n\u001b[1;32m     21\u001b[0m \u001b[0;34m\u001b[0m\u001b[0m\n\u001b[0;32m---> 22\u001b[0;31m     \u001b[0mc_nxkatz_dir\u001b[0m\u001b[0;34m=\u001b[0m\u001b[0mfn\u001b[0m\u001b[0;34m.\u001b[0m\u001b[0mnXCentralityKatz\u001b[0m\u001b[0;34m(\u001b[0m\u001b[0mv_ind\u001b[0m\u001b[0;34m,\u001b[0m\u001b[0medges_1\u001b[0m\u001b[0;34m,\u001b[0m\u001b[0;32mTrue\u001b[0m\u001b[0;34m)\u001b[0m\u001b[0;34m\u001b[0m\u001b[0m\n\u001b[0m\u001b[1;32m     23\u001b[0m     \u001b[0mc_nxkatz_undir\u001b[0m\u001b[0;34m=\u001b[0m\u001b[0mfn\u001b[0m\u001b[0;34m.\u001b[0m\u001b[0mnXCentralityKatz\u001b[0m\u001b[0;34m(\u001b[0m\u001b[0mv_ind\u001b[0m\u001b[0;34m,\u001b[0m\u001b[0medges_1\u001b[0m\u001b[0;34m,\u001b[0m\u001b[0;32mFalse\u001b[0m\u001b[0;34m)\u001b[0m\u001b[0;34m\u001b[0m\u001b[0m\n\u001b[1;32m     24\u001b[0m     \u001b[0mc_nxeig_undir\u001b[0m\u001b[0;34m=\u001b[0m\u001b[0mfn\u001b[0m\u001b[0;34m.\u001b[0m\u001b[0mnXCentralityEigen\u001b[0m\u001b[0;34m(\u001b[0m\u001b[0mv_ind\u001b[0m\u001b[0;34m,\u001b[0m\u001b[0medges_1\u001b[0m\u001b[0;34m,\u001b[0m\u001b[0;32mFalse\u001b[0m\u001b[0;34m)\u001b[0m\u001b[0;34m\u001b[0m\u001b[0m\n",
      "\u001b[0;32m~/CernCentralityProject/TICLHackaton2022-Metrics4Tracksters/src/functions.py\u001b[0m in \u001b[0;36mnXCentralityKatz\u001b[0;34m(nodes, edges, isDirected)\u001b[0m\n\u001b[1;32m    224\u001b[0m     \u001b[0mG\u001b[0m\u001b[0;34m.\u001b[0m\u001b[0madd_edges_from\u001b[0m\u001b[0;34m(\u001b[0m\u001b[0mak\u001b[0m\u001b[0;34m.\u001b[0m\u001b[0mto_numpy\u001b[0m\u001b[0;34m(\u001b[0m\u001b[0medges\u001b[0m\u001b[0;34m)\u001b[0m\u001b[0;34m)\u001b[0m\u001b[0;34m\u001b[0m\u001b[0m\n\u001b[1;32m    225\u001b[0m     \u001b[0mG\u001b[0m\u001b[0;34m.\u001b[0m\u001b[0madd_nodes_from\u001b[0m\u001b[0;34m(\u001b[0m\u001b[0mak\u001b[0m\u001b[0;34m.\u001b[0m\u001b[0mto_numpy\u001b[0m\u001b[0;34m(\u001b[0m\u001b[0mnodes\u001b[0m\u001b[0;34m)\u001b[0m\u001b[0;34m)\u001b[0m\u001b[0;34m\u001b[0m\u001b[0m\n\u001b[0;32m--> 226\u001b[0;31m     \u001b[0mcentr_d\u001b[0m \u001b[0;34m=\u001b[0m \u001b[0mnx\u001b[0m\u001b[0;34m.\u001b[0m\u001b[0mkatz_centrality_numpy\u001b[0m\u001b[0;34m(\u001b[0m\u001b[0mG\u001b[0m\u001b[0;34m)\u001b[0m\u001b[0;34m\u001b[0m\u001b[0m\n\u001b[0m\u001b[1;32m    227\u001b[0m     \u001b[0mcentr_np\u001b[0m \u001b[0;34m=\u001b[0m \u001b[0mnp\u001b[0m\u001b[0;34m.\u001b[0m\u001b[0marray\u001b[0m\u001b[0;34m(\u001b[0m\u001b[0mlist\u001b[0m\u001b[0;34m(\u001b[0m\u001b[0mcentr_d\u001b[0m\u001b[0;34m.\u001b[0m\u001b[0mitems\u001b[0m\u001b[0;34m(\u001b[0m\u001b[0;34m)\u001b[0m\u001b[0;34m)\u001b[0m\u001b[0;34m)\u001b[0m\u001b[0;34m\u001b[0m\u001b[0m\n\u001b[1;32m    228\u001b[0m     \u001b[0;32mreturn\u001b[0m \u001b[0mcentr_np\u001b[0m\u001b[0;34m[\u001b[0m\u001b[0mcentr_np\u001b[0m\u001b[0;34m[\u001b[0m\u001b[0;34m:\u001b[0m\u001b[0;34m,\u001b[0m \u001b[0;36m0\u001b[0m\u001b[0;34m]\u001b[0m\u001b[0;34m.\u001b[0m\u001b[0margsort\u001b[0m\u001b[0;34m(\u001b[0m\u001b[0;34m)\u001b[0m\u001b[0;34m]\u001b[0m\u001b[0;34m[\u001b[0m\u001b[0;34m:\u001b[0m\u001b[0;34m,\u001b[0m\u001b[0;36m1\u001b[0m\u001b[0;34m]\u001b[0m\u001b[0;34m\u001b[0m\u001b[0m\n",
      "\u001b[0;32m</cvmfs/sft.cern.ch/lcg/views/LCG_96python3/x86_64-centos7-gcc8-opt/lib/python3.6/site-packages/decorator.py:decorator-gen-267>\u001b[0m in \u001b[0;36mkatz_centrality_numpy\u001b[0;34m(G, alpha, beta, normalized, weight)\u001b[0m\n",
      "\u001b[0;32m/cvmfs/sft.cern.ch/lcg/views/LCG_96python3/x86_64-centos7-gcc8-opt/lib/python3.6/site-packages/networkx/utils/decorators.py\u001b[0m in \u001b[0;36m_not_implemented_for\u001b[0;34m(not_implement_for_func, *args, **kwargs)\u001b[0m\n\u001b[1;32m     80\u001b[0m             \u001b[0;32mraise\u001b[0m \u001b[0mnx\u001b[0m\u001b[0;34m.\u001b[0m\u001b[0mNetworkXNotImplemented\u001b[0m\u001b[0;34m(\u001b[0m\u001b[0mmsg\u001b[0m\u001b[0;34m)\u001b[0m\u001b[0;34m\u001b[0m\u001b[0m\n\u001b[1;32m     81\u001b[0m         \u001b[0;32melse\u001b[0m\u001b[0;34m:\u001b[0m\u001b[0;34m\u001b[0m\u001b[0m\n\u001b[0;32m---> 82\u001b[0;31m             \u001b[0;32mreturn\u001b[0m \u001b[0mnot_implement_for_func\u001b[0m\u001b[0;34m(\u001b[0m\u001b[0;34m*\u001b[0m\u001b[0margs\u001b[0m\u001b[0;34m,\u001b[0m \u001b[0;34m**\u001b[0m\u001b[0mkwargs\u001b[0m\u001b[0;34m)\u001b[0m\u001b[0;34m\u001b[0m\u001b[0m\n\u001b[0m\u001b[1;32m     83\u001b[0m     \u001b[0;32mreturn\u001b[0m \u001b[0m_not_implemented_for\u001b[0m\u001b[0;34m\u001b[0m\u001b[0m\n\u001b[1;32m     84\u001b[0m \u001b[0;34m\u001b[0m\u001b[0m\n",
      "\u001b[0;32m/cvmfs/sft.cern.ch/lcg/views/LCG_96python3/x86_64-centos7-gcc8-opt/lib/python3.6/site-packages/networkx/algorithms/centrality/katz.py\u001b[0m in \u001b[0;36mkatz_centrality_numpy\u001b[0;34m(G, alpha, beta, normalized, weight)\u001b[0m\n\u001b[1;32m    328\u001b[0m     \u001b[0mA\u001b[0m \u001b[0;34m=\u001b[0m \u001b[0mnx\u001b[0m\u001b[0;34m.\u001b[0m\u001b[0madj_matrix\u001b[0m\u001b[0;34m(\u001b[0m\u001b[0mG\u001b[0m\u001b[0;34m,\u001b[0m \u001b[0mnodelist\u001b[0m\u001b[0;34m=\u001b[0m\u001b[0mnodelist\u001b[0m\u001b[0;34m,\u001b[0m \u001b[0mweight\u001b[0m\u001b[0;34m=\u001b[0m\u001b[0mweight\u001b[0m\u001b[0;34m)\u001b[0m\u001b[0;34m.\u001b[0m\u001b[0mtodense\u001b[0m\u001b[0;34m(\u001b[0m\u001b[0;34m)\u001b[0m\u001b[0;34m.\u001b[0m\u001b[0mT\u001b[0m\u001b[0;34m\u001b[0m\u001b[0m\n\u001b[1;32m    329\u001b[0m     \u001b[0mn\u001b[0m \u001b[0;34m=\u001b[0m \u001b[0mA\u001b[0m\u001b[0;34m.\u001b[0m\u001b[0mshape\u001b[0m\u001b[0;34m[\u001b[0m\u001b[0;36m0\u001b[0m\u001b[0;34m]\u001b[0m\u001b[0;34m\u001b[0m\u001b[0m\n\u001b[0;32m--> 330\u001b[0;31m     \u001b[0mcentrality\u001b[0m \u001b[0;34m=\u001b[0m \u001b[0mnp\u001b[0m\u001b[0;34m.\u001b[0m\u001b[0mlinalg\u001b[0m\u001b[0;34m.\u001b[0m\u001b[0msolve\u001b[0m\u001b[0;34m(\u001b[0m\u001b[0mnp\u001b[0m\u001b[0;34m.\u001b[0m\u001b[0meye\u001b[0m\u001b[0;34m(\u001b[0m\u001b[0mn\u001b[0m\u001b[0;34m,\u001b[0m \u001b[0mn\u001b[0m\u001b[0;34m)\u001b[0m \u001b[0;34m-\u001b[0m \u001b[0;34m(\u001b[0m\u001b[0malpha\u001b[0m \u001b[0;34m*\u001b[0m \u001b[0mA\u001b[0m\u001b[0;34m)\u001b[0m\u001b[0;34m,\u001b[0m \u001b[0mb\u001b[0m\u001b[0;34m)\u001b[0m\u001b[0;34m\u001b[0m\u001b[0m\n\u001b[0m\u001b[1;32m    331\u001b[0m     \u001b[0;32mif\u001b[0m \u001b[0mnormalized\u001b[0m\u001b[0;34m:\u001b[0m\u001b[0;34m\u001b[0m\u001b[0m\n\u001b[1;32m    332\u001b[0m         \u001b[0mnorm\u001b[0m \u001b[0;34m=\u001b[0m \u001b[0mnp\u001b[0m\u001b[0;34m.\u001b[0m\u001b[0msign\u001b[0m\u001b[0;34m(\u001b[0m\u001b[0msum\u001b[0m\u001b[0;34m(\u001b[0m\u001b[0mcentrality\u001b[0m\u001b[0;34m)\u001b[0m\u001b[0;34m)\u001b[0m \u001b[0;34m*\u001b[0m \u001b[0mnp\u001b[0m\u001b[0;34m.\u001b[0m\u001b[0mlinalg\u001b[0m\u001b[0;34m.\u001b[0m\u001b[0mnorm\u001b[0m\u001b[0;34m(\u001b[0m\u001b[0mcentrality\u001b[0m\u001b[0;34m)\u001b[0m\u001b[0;34m\u001b[0m\u001b[0m\n",
      "\u001b[0;32m/cvmfs/sft.cern.ch/lcg/views/LCG_96python3/x86_64-centos7-gcc8-opt/lib/python3.6/site-packages/numpy/linalg/linalg.py\u001b[0m in \u001b[0;36msolve\u001b[0;34m(a, b)\u001b[0m\n\u001b[1;32m    401\u001b[0m     \u001b[0msignature\u001b[0m \u001b[0;34m=\u001b[0m \u001b[0;34m'DD->D'\u001b[0m \u001b[0;32mif\u001b[0m \u001b[0misComplexType\u001b[0m\u001b[0;34m(\u001b[0m\u001b[0mt\u001b[0m\u001b[0;34m)\u001b[0m \u001b[0;32melse\u001b[0m \u001b[0;34m'dd->d'\u001b[0m\u001b[0;34m\u001b[0m\u001b[0m\n\u001b[1;32m    402\u001b[0m     \u001b[0mextobj\u001b[0m \u001b[0;34m=\u001b[0m \u001b[0mget_linalg_error_extobj\u001b[0m\u001b[0;34m(\u001b[0m\u001b[0m_raise_linalgerror_singular\u001b[0m\u001b[0;34m)\u001b[0m\u001b[0;34m\u001b[0m\u001b[0m\n\u001b[0;32m--> 403\u001b[0;31m     \u001b[0mr\u001b[0m \u001b[0;34m=\u001b[0m \u001b[0mgufunc\u001b[0m\u001b[0;34m(\u001b[0m\u001b[0ma\u001b[0m\u001b[0;34m,\u001b[0m \u001b[0mb\u001b[0m\u001b[0;34m,\u001b[0m \u001b[0msignature\u001b[0m\u001b[0;34m=\u001b[0m\u001b[0msignature\u001b[0m\u001b[0;34m,\u001b[0m \u001b[0mextobj\u001b[0m\u001b[0;34m=\u001b[0m\u001b[0mextobj\u001b[0m\u001b[0;34m)\u001b[0m\u001b[0;34m\u001b[0m\u001b[0m\n\u001b[0m\u001b[1;32m    404\u001b[0m \u001b[0;34m\u001b[0m\u001b[0m\n\u001b[1;32m    405\u001b[0m     \u001b[0;32mreturn\u001b[0m \u001b[0mwrap\u001b[0m\u001b[0;34m(\u001b[0m\u001b[0mr\u001b[0m\u001b[0;34m.\u001b[0m\u001b[0mastype\u001b[0m\u001b[0;34m(\u001b[0m\u001b[0mresult_t\u001b[0m\u001b[0;34m,\u001b[0m \u001b[0mcopy\u001b[0m\u001b[0;34m=\u001b[0m\u001b[0;32mFalse\u001b[0m\u001b[0;34m)\u001b[0m\u001b[0;34m)\u001b[0m\u001b[0;34m\u001b[0m\u001b[0m\n",
      "\u001b[0;31mKeyboardInterrupt\u001b[0m: "
     ]
    }
   ],
   "source": [
    "longestComPaths=[]\n",
    "longestInComPaths=[]\n",
    "\n",
    "N_tr = len(vertices10e_indexes_g)\n",
    "#N_tr=1000\n",
    "\n",
    "for i in range(N_tr):\n",
    "    v_ind=vertices10e_indexes_g[i]\n",
    "    v_x=vertices10e_x_g[i] \n",
    "    v_y=vertices10e_y_g[i]\n",
    "    v_z=vertices10e_z_g[i]\n",
    "    v_E=vertices10e_E_g[i] \n",
    "    edges_1 = fn.edgeBuilderNew(\n",
    "        v_ind,\n",
    "        v_x, \n",
    "        v_y, \n",
    "        v_z, \n",
    "        v_E\n",
    "    )\n",
    "    edges_1 = ak.flatten(edges_1[ak.num(edges_1) > 0].to_list())\n",
    "\n",
    "    c_nxkatz_dir=fn.nXCentralityKatz(v_ind,edges_1,True)\n",
    "    c_nxkatz_undir=fn.nXCentralityKatz(v_ind,edges_1,False)\n",
    "    c_nxeig_undir=fn.nXCentralityEigen(v_ind,edges_1,False)\n",
    "    c_katz=fn.centralityKatz(v_ind,edges_1,False)\n",
    "    c_eig_undir=fn.centralityEigen(v_ind,edges_1,False)\n",
    "    c_pr_dir=fn.centralityPageRank(v_ind,edges_1,0.85,True)\n",
    "    c_pr_undir=fn.centralityPageRank(v_ind,edges_1,0.85,False)\n",
    "    longestComCentralitiesPaths=[]\n",
    "    longestInComCentralitiesPaths=[]\n",
    "    \n",
    "    cList=[c_nxkatz_dir,c_nxkatz_undir,c_nxeig_undir,c_katz,c_eig_undir,c_pr_dir,c_pr_undir]\n",
    "    #cList=[c_nxeig_undir]\n",
    "    for j in cList:\n",
    "        longestPath=fn.longestPathSource(v_ind,edges_1,j)\n",
    "        if(vertices10e_Labels_g[i]==1):\n",
    "            longestComCentralitiesPaths.append(longestPath)\n",
    "        else:\n",
    "            longestInComCentralitiesPaths.append(longestPath)\n",
    "    if(vertices10e_Labels_g[i]==1):\n",
    "        longestComPaths.append(longestComCentralitiesPaths)\n",
    "    else:\n",
    "        longestInComPaths.append(longestInComCentralitiesPaths)\n",
    "\n"
   ]
  },
  {
   "cell_type": "code",
   "execution_count": null,
   "metadata": {},
   "outputs": [],
   "source": [
    "longestComPaths=np.asarray(longestComPaths)\n",
    "longestInComPaths=np.asarray(longestInComPaths)"
   ]
  },
  {
   "cell_type": "code",
   "execution_count": null,
   "metadata": {},
   "outputs": [],
   "source": [
    "%matplotlib inline\n",
    "\n",
    "plt.figure(figsize=(8,6))\n",
    "n, bins, patches = plt.hist(longestComPaths[:,0], bins=20, color='b', alpha=0.7,label='Complete')\n",
    "plt.hist(longestInComPaths[:,0], bins=10, color='r', alpha=0.7,label='Incomplete')\n",
    "plt.legend()\n",
    "plt.ylabel(\"N\")\n",
    "plt.xlabel(\"Longest path in the network\")\n",
    "plt.title(\"10e dataset nxKatz Directed centrality\")\n",
    "plt.show()"
   ]
  },
  {
   "cell_type": "code",
   "execution_count": null,
   "metadata": {},
   "outputs": [],
   "source": [
    "%matplotlib inline\n",
    "\n",
    "plt.figure(figsize=(8,6))\n",
    "n, bins, patches = plt.hist(longestComPaths[:,1], bins=20, color='b', alpha=0.7,label='Complete')\n",
    "plt.hist(longestInComPaths[:,1], bins=10, color='r', alpha=0.7,label='Incomplete')\n",
    "plt.legend()\n",
    "plt.ylabel(\"N\")\n",
    "plt.xlabel(\"Longest path in the network\")\n",
    "plt.title(\"10e dataset nxKatz Undirected centrality\")\n",
    "plt.show()"
   ]
  },
  {
   "cell_type": "code",
   "execution_count": null,
   "metadata": {},
   "outputs": [],
   "source": [
    "%matplotlib inline\n",
    "\n",
    "plt.figure(figsize=(8,6))\n",
    "n, bins, patches = plt.hist(longestComPaths[:,2], bins=20, color='b', alpha=0.7,label='Complete')\n",
    "plt.hist(longestInComPaths[:,2], bins=10, color='r', alpha=0.7,label='Incomplete')\n",
    "plt.legend()\n",
    "plt.ylabel(\"N\")\n",
    "plt.xlabel(\"Longest path in the network\")\n",
    "plt.title(\"10e dataset  nxEigen Undirected centrality\")\n",
    "plt.show()"
   ]
  },
  {
   "cell_type": "code",
   "execution_count": null,
   "metadata": {},
   "outputs": [],
   "source": [
    "%matplotlib inline\n",
    "\n",
    "plt.figure(figsize=(8,6))\n",
    "n, bins, patches = plt.hist(longestComPaths[:,3], bins=20, color='b', alpha=0.7,label='Complete')\n",
    "plt.hist(longestInComPaths[:,3], bins=10, color='r', alpha=0.7,label='Incomplete')\n",
    "plt.legend()\n",
    "plt.ylabel(\"N\")\n",
    "plt.xlabel(\"Longest path in the network\")\n",
    "plt.title(\"10e dataset Katz Undirected centrality\")\n",
    "plt.show()"
   ]
  },
  {
   "cell_type": "code",
   "execution_count": null,
   "metadata": {},
   "outputs": [],
   "source": [
    "%matplotlib inline\n",
    "\n",
    "plt.figure(figsize=(8,6))\n",
    "n, bins, patches = plt.hist(longestComPaths[:,4], bins=20, color='b', alpha=0.7,label='Complete')\n",
    "plt.hist(longestInComPaths[:,4], bins=10, color='r', alpha=0.7,label='Incomplete')\n",
    "plt.legend()\n",
    "plt.ylabel(\"N\")\n",
    "plt.xlabel(\"Longest path in the network\")\n",
    "plt.title(\"10e dataset Eigen Undirected centrality\")\n",
    "plt.show()"
   ]
  },
  {
   "cell_type": "code",
   "execution_count": null,
   "metadata": {},
   "outputs": [],
   "source": [
    "%matplotlib inline\n",
    "\n",
    "plt.figure(figsize=(8,6))\n",
    "n, bins, patches = plt.hist(longestComPaths[:,5], bins=20, color='b', alpha=0.7,label='Complete')\n",
    "plt.hist(longestInComPaths[:,5], bins=10, color='r', alpha=0.7,label='Incomplete')\n",
    "plt.legend()\n",
    "plt.ylabel(\"N\")\n",
    "plt.xlabel(\"Longest path in the network\")\n",
    "plt.title(\"10e dataset PageRank Directed centrality\")\n",
    "plt.show()"
   ]
  },
  {
   "cell_type": "code",
   "execution_count": null,
   "metadata": {},
   "outputs": [],
   "source": [
    "%matplotlib inline\n",
    "\n",
    "plt.figure(figsize=(8,6))\n",
    "n, bins, patches = plt.hist(longestComPaths[:,6], bins=20, color='b', alpha=0.7,label='Complete')\n",
    "plt.hist(longestInComPaths[:,6], bins=10, color='r', alpha=0.7,label='Incomplete')\n",
    "plt.legend()\n",
    "plt.ylabel(\"N\")\n",
    "plt.xlabel(\"Longest path in the network\")\n",
    "plt.title(\"10e dataset PageRank Undirected centrality\")\n",
    "plt.show()"
   ]
  }
 ],
 "metadata": {
  "kernelspec": {
   "display_name": "ticlenv",
   "language": "python",
   "name": "ticlenv"
  },
  "language_info": {
   "codemirror_mode": {
    "name": "ipython",
    "version": 3
   },
   "file_extension": ".py",
   "mimetype": "text/x-python",
   "name": "python",
   "nbconvert_exporter": "python",
   "pygments_lexer": "ipython3",
   "version": "3.6.5"
  }
 },
 "nbformat": 4,
 "nbformat_minor": 2
}
