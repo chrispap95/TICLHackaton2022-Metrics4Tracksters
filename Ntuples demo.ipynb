{
 "cells": [
  {
   "cell_type": "code",
   "execution_count": 1,
   "metadata": {},
   "outputs": [],
   "source": [
    "import numpy as np\n",
    "import awkward as ak\n",
    "import uproot"
   ]
  },
  {
   "cell_type": "code",
   "execution_count": 2,
   "metadata": {},
   "outputs": [],
   "source": [
    "filename = \"/eos/user/b/bmaier/ticl_ml_hackathon/samples/landingzone/single_gamma/ntuples_13601794_1140.root\"\n",
    "file = uproot.open(filename)"
   ]
  },
  {
   "cell_type": "code",
   "execution_count": 3,
   "metadata": {},
   "outputs": [
    {
     "data": {
      "text/plain": [
       "['ticlNtuplizer;1',\n",
       " 'ticlNtuplizer/tracksters;1',\n",
       " 'ticlNtuplizer/clusters;1',\n",
       " 'ticlNtuplizer/graph;1',\n",
       " 'ticlNtuplizer/candidates;1',\n",
       " 'ticlNtuplizer/trackstersMerged;1',\n",
       " 'ticlNtuplizer/associations;1',\n",
       " 'ticlNtuplizer/simtrackstersSC;1',\n",
       " 'ticlNtuplizer/simtrackstersCP;1',\n",
       " 'ticlNtuplizer/tracks;1']"
      ]
     },
     "execution_count": 3,
     "metadata": {},
     "output_type": "execute_result"
    }
   ],
   "source": [
    "file.keys()"
   ]
  },
  {
   "cell_type": "code",
   "execution_count": 6,
   "metadata": {},
   "outputs": [],
   "source": [
    "tracksters = file[\"ticlNtuplizer/tracksters\"]"
   ]
  },
  {
   "cell_type": "code",
   "execution_count": 7,
   "metadata": {},
   "outputs": [
    {
     "data": {
      "text/plain": [
       "['event',\n",
       " 'NClusters',\n",
       " 'NTracksters',\n",
       " 'time',\n",
       " 'timeError',\n",
       " 'regressed_energy',\n",
       " 'raw_energy',\n",
       " 'raw_em_energy',\n",
       " 'raw_pt',\n",
       " 'raw_em_pt',\n",
       " 'barycenter_x',\n",
       " 'barycenter_y',\n",
       " 'barycenter_z',\n",
       " 'trackster_barycenter_eta',\n",
       " 'trackster_barycenter_phi',\n",
       " 'EV1',\n",
       " 'EV2',\n",
       " 'EV3',\n",
       " 'eVector0_x',\n",
       " 'eVector0_y',\n",
       " 'eVector0_z',\n",
       " 'sigmaPCA1',\n",
       " 'sigmaPCA2',\n",
       " 'sigmaPCA3',\n",
       " 'id_probabilities',\n",
       " 'vertices_indexes',\n",
       " 'vertices_x',\n",
       " 'vertices_y',\n",
       " 'vertices_z',\n",
       " 'vertices_energy',\n",
       " 'vertices_correctedEnergy',\n",
       " 'vertices_correctedEnergyUncertainty',\n",
       " 'vertices_multiplicity',\n",
       " 'layer_cluster_seed']"
      ]
     },
     "execution_count": 7,
     "metadata": {},
     "output_type": "execute_result"
    }
   ],
   "source": [
    "tracksters.keys()"
   ]
  },
  {
   "cell_type": "code",
   "execution_count": null,
   "metadata": {},
   "outputs": [],
   "source": []
  }
 ],
 "metadata": {
  "kernelspec": {
   "display_name": "ticlenv",
   "language": "python",
   "name": "ticlenv"
  },
  "language_info": {
   "codemirror_mode": {
    "name": "ipython",
    "version": 3
   },
   "file_extension": ".py",
   "mimetype": "text/x-python",
   "name": "python",
   "nbconvert_exporter": "python",
   "pygments_lexer": "ipython3",
   "version": "3.6.5"
  }
 },
 "nbformat": 4,
 "nbformat_minor": 2
}
